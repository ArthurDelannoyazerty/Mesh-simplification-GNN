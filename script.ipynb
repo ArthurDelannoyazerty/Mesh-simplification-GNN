{
 "cells": [
  {
   "cell_type": "markdown",
   "metadata": {},
   "source": [
    "# Imports"
   ]
  },
  {
   "cell_type": "code",
   "execution_count": 198,
   "metadata": {},
   "outputs": [],
   "source": [
    "from Transformation import Transformation\n",
    "import numpy as np\n",
    "from sklearn.neighbors import NearestNeighbors\n",
    "import networkx as nx\n",
    "import torch\n",
    "from numpy import mean\n",
    "from igraph import Graph as igraphGraph\n",
    "import matplotlib.pyplot as plt\n",
    "from mpl_toolkits.mplot3d import Axes3D\n",
    "import scipy.spatial.distance\n",
    "from scipy.spatial.distance import cdist\n"
   ]
  },
  {
   "cell_type": "markdown",
   "metadata": {},
   "source": [
    "# Input"
   ]
  },
  {
   "cell_type": "code",
   "execution_count": 199,
   "metadata": {},
   "outputs": [
    {
     "name": "stdout",
     "output_type": "stream",
     "text": [
      "Number of nodes: 5999\n",
      "Number of edges: 17991\n"
     ]
    }
   ],
   "source": [
    "transformation = Transformation()\n",
    "\n",
    "user_number_triangles = 500   #à diminuer si le process est trop long\n",
    "number_neigh_tri = 20\n",
    "\n",
    "# Create objects\n",
    "stl_file_path = \"3d_models/stl/Handle.stl\"\n",
    "mesh_data = transformation.stl_to_mesh(stl_file_path)\n",
    "graph = transformation.mesh_to_graph(mesh_data)\n",
    "\n",
    "transformation.print_graph_properties(graph, display_graph=False, display_labels=False)"
   ]
  },
  {
   "cell_type": "code",
   "execution_count": 200,
   "metadata": {},
   "outputs": [],
   "source": [
    "if len(graph._node)<20:\n",
    "    raise Exception(\"Input mesh does not have enough vertices. (More than 20 is needed)\")"
   ]
  },
  {
   "cell_type": "markdown",
   "metadata": {},
   "source": [
    "# Point Sampler"
   ]
  },
  {
   "cell_type": "markdown",
   "metadata": {},
   "source": [
    "### DevConv"
   ]
  },
  {
   "cell_type": "code",
   "execution_count": 201,
   "metadata": {},
   "outputs": [],
   "source": [
    "def relu(array):\n",
    "    return np.maximum(array, 0)\n",
    "\n",
    "def sigmoid(array):\n",
    "    return 1 / (1 + np.exp(-array))"
   ]
  },
  {
   "cell_type": "code",
   "execution_count": 202,
   "metadata": {},
   "outputs": [],
   "source": [
    "class DevConv():\n",
    "    def __init__(self, graph, output_dimension):\n",
    "        self.graph = graph\n",
    "        self.list_node = list(graph._node)\n",
    "\n",
    "        self.W_phi = np.random.random((output_dimension))      #change\n",
    "        self.W_theta = np.array([0.1, 0.1, 0.1]).reshape(1, -1)  # change\n",
    "    \n",
    "    def forward(self, previous_inclusion_score, return_flatten=True):\n",
    "        list_inc_score = np.zeros((len(self.list_node), len(self.W_phi)))                               #list of \"output_dimension\" for each \"list_node\" element\n",
    "        for index_current_node, (current_node, dict_neigh) in enumerate(self.graph._adj.items()):       # for each node and its adjacency nodes\n",
    "            neigh_nodes = np.array(list(dict_neigh.keys()))                                             # array of adjacency nodes\n",
    "            diff = current_node - neigh_nodes                                                           # Compute the differences between current_node and all neighbor nodes   (x_i - x_j)\n",
    "            neigh_distances = np.linalg.norm(self.W_theta * diff, axis=1)                               # Compute the norm for each vector difference  ||W_theta * (x_i - x_j)||\n",
    "            list_inc_score[index_current_node] = self.W_phi * np.max(neigh_distances)                   # Add (W_phi * ||W_theta * (x_i - x_j)||) to the inclusion score list\n",
    "\n",
    "        if len(previous_inclusion_score)==0:                            # return if no previous inclusion score\n",
    "            if return_flatten:\n",
    "                list_inc_score = list_inc_score.flatten()\n",
    "            return list_inc_score\n",
    "        \n",
    "        if list_inc_score.shape[1]!=1:                                  # If inclusion score is not vector\n",
    "            list_inc_score = np.mean(list_inc_score, axis=1)            # Mean the matrix for each node\n",
    "\n",
    "        # array of array to array\n",
    "        if len(list_inc_score.shape)==2:                 \n",
    "            if list_inc_score.shape[1]==1:\n",
    "                list_inc_score = list_inc_score.flatten()\n",
    "\n",
    "        # Return the mean of previous and current inclusion score\n",
    "        return np.mean(np.array([previous_inclusion_score, list_inc_score], dtype=np.float64), axis=0)\n",
    "        "
   ]
  },
  {
   "cell_type": "code",
   "execution_count": 203,
   "metadata": {},
   "outputs": [
    {
     "name": "stdout",
     "output_type": "stream",
     "text": [
      "[1.24307132 1.24379455 1.24307132 ... 1.15725753 1.67985361 1.15725753]\n",
      "[0.94522671 0.94577665 0.94522671 ... 0.87997424 1.27735431 0.87997424]\n",
      "[0.73842696 0.73854357 0.73842696 ... 0.72435442 0.80257508 0.72435442]\n",
      "(5999,)\n"
     ]
    }
   ],
   "source": [
    "devconv = DevConv(graph, 1)\n",
    "inclusion_score = devconv.forward(previous_inclusion_score=np.array([]))\n",
    "inclusion_score = relu(inclusion_score)\n",
    "print(inclusion_score)\n",
    "\n",
    "devconv = DevConv(graph, 64)\n",
    "inclusion_score = devconv.forward(previous_inclusion_score=inclusion_score)\n",
    "inclusion_score = relu(inclusion_score)\n",
    "print(inclusion_score)\n",
    "\n",
    "devconv = DevConv(graph, 1)\n",
    "inclusion_score = devconv.forward(previous_inclusion_score=inclusion_score)\n",
    "inclusion_score = sigmoid(inclusion_score)\n",
    "print(inclusion_score)\n",
    "print(inclusion_score.shape)"
   ]
  },
  {
   "cell_type": "markdown",
   "metadata": {},
   "source": [
    "### Multinomial Sampling"
   ]
  },
  {
   "cell_type": "code",
   "execution_count": 204,
   "metadata": {},
   "outputs": [
    {
     "name": "stdout",
     "output_type": "stream",
     "text": [
      "[0 0 0 ... 0 0 0]\n"
     ]
    }
   ],
   "source": [
    "normalized_inclusion_score = inclusion_score / np.sum(inclusion_score)  # normalize for multinomial sampling\n",
    "normalized_inclusion_score = np.round(normalized_inclusion_score, 8)    # round to remove float imprecision\n",
    "\n",
    "number_throws = 500     # small:more randomness    |   big:less randomness\n",
    "mult_sampling = np.random.multinomial(number_throws, normalized_inclusion_score)\n",
    "print(mult_sampling)"
   ]
  },
  {
   "cell_type": "code",
   "execution_count": 205,
   "metadata": {},
   "outputs": [
    {
     "data": {
      "text/plain": [
       "array([[86.45986  ,  5.7970243, 91.5185   ],\n",
       "       [84.7046   ,  5.7970243, 93.18418  ],\n",
       "       [83.39875  ,  5.7970243, 94.13294  ],\n",
       "       [87.93294  ,  5.7970243, 89.59875  ],\n",
       "       [88.354774 ,  5.7970243, 88.910385 ]], dtype=float32)"
      ]
     },
     "execution_count": 205,
     "metadata": {},
     "output_type": "execute_result"
    }
   ],
   "source": [
    "target_number_point = min(len(graph._node), user_number_triangles*3)   # number of points for the simplification\n",
    "\n",
    "index_k_nodes = np.argpartition(mult_sampling, -target_number_point)[-target_number_point:]     # Take the k (\"target_number_points\") largest values given by the multinomial sampling \n",
    "list_k_nodes = np.array(graph)[index_k_nodes]                                # Take the selected nodes (list of list of 3)\n",
    "list_k_nodes[:5]"
   ]
  },
  {
   "cell_type": "markdown",
   "metadata": {},
   "source": [
    "# KNN extended graph"
   ]
  },
  {
   "cell_type": "code",
   "execution_count": 206,
   "metadata": {},
   "outputs": [
    {
     "data": {
      "text/plain": [
       "\"\\n_, indices = NearestNeighbors(n_neighbors=15).fit(list_k_nodes).kneighbors(list_k_nodes)        # KNN of the selected points\\n\\nextended_graph = nx.Graph()\\nfor index_poly, poly in enumerate(indices):                                 # For the neighbors of the 'index_poly' node\\n    current_node = tuple(list_k_nodes[poly[0]])                             # Tuple of the main node coordinates\\n    for index_other_node in poly[1:]:                                       # For every neighbors of the main node (main node is the first index)\\n        edge = current_node, tuple(list_k_nodes[index_other_node])          # Create an edge of two tuples\\n        extended_graph.add_edge(*edge)                                      # Add the edge to the graph\\n\\ntransformation.print_graph_properties(graph=extended_graph, display_graph=False, display_labels=False)\\n\""
      ]
     },
     "execution_count": 206,
     "metadata": {},
     "output_type": "execute_result"
    }
   ],
   "source": [
    "\"\"\"\n",
    "_, indices = NearestNeighbors(n_neighbors=15).fit(list_k_nodes).kneighbors(list_k_nodes)        # KNN of the selected points\n",
    "\n",
    "extended_graph = nx.Graph()\n",
    "for index_poly, poly in enumerate(indices):                                 # For the neighbors of the 'index_poly' node\n",
    "    current_node = tuple(list_k_nodes[poly[0]])                             # Tuple of the main node coordinates\n",
    "    for index_other_node in poly[1:]:                                       # For every neighbors of the main node (main node is the first index)\n",
    "        edge = current_node, tuple(list_k_nodes[index_other_node])          # Create an edge of two tuples\n",
    "        extended_graph.add_edge(*edge)                                      # Add the edge to the graph\n",
    "\n",
    "transformation.print_graph_properties(graph=extended_graph, display_graph=False, display_labels=False)\n",
    "\"\"\""
   ]
  },
  {
   "cell_type": "code",
   "execution_count": 207,
   "metadata": {},
   "outputs": [
    {
     "name": "stdout",
     "output_type": "stream",
     "text": [
      "Number of nodes: 1500\n",
      "Number of edges: 11738\n"
     ]
    }
   ],
   "source": [
    "def knn_and_extended_graph(list_k_nodes_i, k_neighbors=15):\n",
    "    \"\"\"\n",
    "    Perform k-NN on the given points and construct an extended graph.\n",
    "\n",
    "    Parameters:\n",
    "    - list_k_nodes_i: array-like\n",
    "        List of coordinates of the selected points.\n",
    "    - k_neighbors: int, optional (default=15)\n",
    "        Number of neighbors for k-NN.\n",
    "\n",
    "    Returns:\n",
    "    - extended_graph_i: networkx.Graph\n",
    "        Extended graph.\n",
    "    \"\"\"\n",
    "\n",
    "    # Perform k-NN on the selected points\n",
    "    _, indices = NearestNeighbors(n_neighbors=k_neighbors).fit(list_k_nodes_i).kneighbors(list_k_nodes_i)\n",
    "\n",
    "    # Construct the extended graph\n",
    "    extended_graph_i = nx.Graph()\n",
    "    for poly in indices:\n",
    "        current_node = tuple(list_k_nodes_i[poly[0]])\n",
    "        for index_other_node in poly[1:]:\n",
    "            edge = current_node, tuple(list_k_nodes_i[index_other_node])\n",
    "            extended_graph_i.add_edge(*edge)\n",
    "\n",
    "    return extended_graph_i\n",
    "\n",
    "extended_graph = knn_and_extended_graph(list_k_nodes)\n",
    "transformation.print_graph_properties(graph=extended_graph, display_graph=False, display_labels=False)"
   ]
  },
  {
   "cell_type": "markdown",
   "metadata": {},
   "source": [
    "# Edge Predictor"
   ]
  },
  {
   "cell_type": "code",
   "execution_count": 208,
   "metadata": {},
   "outputs": [
    {
     "data": {
      "text/plain": [
       "(1500, 64)"
      ]
     },
     "execution_count": 208,
     "metadata": {},
     "output_type": "execute_result"
    }
   ],
   "source": [
    "devconv = DevConv(extended_graph, 64)\n",
    "inclusion_score = devconv.forward(previous_inclusion_score=np.array([]), return_flatten=False)\n",
    "inclusion_score.shape"
   ]
  },
  {
   "cell_type": "code",
   "execution_count": 209,
   "metadata": {},
   "outputs": [],
   "source": [
    "\"\"\"\n",
    "inclusion_score = [[f_1_1  , f_1_2  , ..., f_63_1  ],\n",
    "                    ...,\n",
    "                   [f_1_M-1, f_1_M-1, ..., f_63_M-1]]\n",
    "M = number of points\n",
    "64 = hidden dimensions\n",
    "\"\"\"\n",
    "\n",
    "\n",
    "f = np.mean(inclusion_score, axis=1)                            # Flatten the matrix of inclusion score \n",
    "wq = np.random.rand(64)\n",
    "wk = np.random.rand(64)"
   ]
  },
  {
   "cell_type": "code",
   "execution_count": 210,
   "metadata": {},
   "outputs": [],
   "source": [
    "wq_f = wq.reshape(-1, 1) * f            # Wq*f\n",
    "wk_f = wk.reshape(-1, 1) * f            # Wq*f\n",
    "S = np.exp(np.dot(wq_f.T, wk_f))        # e^((wq_f.T)*(wk_f))\n",
    "\n",
    "nodes = list(extended_graph.nodes())                                                                                # list of nodes\n",
    "node_indices = {node: index for index, node in enumerate(nodes)}                                                    # dict{node: index}\n",
    "neighbors_indices = [[node_indices[neighbor] for neighbor in extended_graph.neighbors(node)] for node in nodes]     # List of list : [[neigh1 of node1, neigh2 of node1...], [neigh1 of node2, neigh2 of node2...]...]\n",
    "\n",
    "\n",
    "for index_current_node, neighbors_index in enumerate(neighbors_indices):        # For each neighbors of the 'index_current_node' node\n",
    "    sum_columns = np.sum(S[:, neighbors_index], axis=1)                         # Sum along the rows the values of the neighbors\n",
    "    S[index_current_node] = S[index_current_node] / sum_columns                 # And divide the current node columns by the sume of the neighbors"
   ]
  },
  {
   "cell_type": "markdown",
   "metadata": {},
   "source": [
    "### Sparse Attention"
   ]
  },
  {
   "cell_type": "code",
   "execution_count": 211,
   "metadata": {},
   "outputs": [],
   "source": [
    "# S = S*np.random.choice([0, 1], size=S.shape)      # Add a random mask to emulate the 'sparse'"
   ]
  },
  {
   "cell_type": "markdown",
   "metadata": {},
   "source": [
    "# Face Candidates"
   ]
  },
  {
   "cell_type": "markdown",
   "metadata": {},
   "source": [
    "#### Inputs"
   ]
  },
  {
   "cell_type": "code",
   "execution_count": 212,
   "metadata": {},
   "outputs": [
    {
     "name": "stdout",
     "output_type": "stream",
     "text": [
      "  (0, 1)\t1\n",
      "  (0, 2)\t1\n",
      "  (0, 3)\t1\n",
      "  (0, 4)\t1\n",
      "  (0, 5)\t1\n",
      "  (0, 6)\t1\n",
      "  (0, 7)\t1\n",
      "  (0, 8)\t1\n",
      "  (0, 9)\t1\n",
      "  (0, 10)\t1\n",
      "  (0, 11)\t1\n",
      "  (0, 12)\t1\n",
      "  (0, 13)\t1\n",
      "  (0, 14)\t1\n",
      "  (1, 0)\t1\n",
      "  (1, 2)\t1\n",
      "  (1, 3)\t1\n",
      "  (1, 4)\t1\n",
      "  (1, 6)\t1\n",
      "  (1, 7)\t1\n",
      "  (1, 10)\t1\n",
      "  (1, 11)\t1\n",
      "  (1, 12)\t1\n",
      "  (1, 13)\t1\n",
      "  (1, 22)\t1\n",
      "  :\t:\n",
      "  (1498, 613)\t1\n",
      "  (1498, 614)\t1\n",
      "  (1498, 615)\t1\n",
      "  (1498, 616)\t1\n",
      "  (1498, 618)\t1\n",
      "  (1498, 1112)\t1\n",
      "  (1498, 1350)\t1\n",
      "  (1498, 1461)\t1\n",
      "  (1498, 1476)\t1\n",
      "  (1498, 1499)\t1\n",
      "  (1499, 608)\t1\n",
      "  (1499, 609)\t1\n",
      "  (1499, 610)\t1\n",
      "  (1499, 611)\t1\n",
      "  (1499, 612)\t1\n",
      "  (1499, 613)\t1\n",
      "  (1499, 614)\t1\n",
      "  (1499, 615)\t1\n",
      "  (1499, 616)\t1\n",
      "  (1499, 617)\t1\n",
      "  (1499, 1112)\t1\n",
      "  (1499, 1350)\t1\n",
      "  (1499, 1461)\t1\n",
      "  (1499, 1476)\t1\n",
      "  (1499, 1498)\t1\n",
      "[[0.0718114  0.07181526 0.07181526 ... 0.07199187 0.07171339 0.07172243]\n",
      " [1.08182918 0.0663841  0.0663841  ... 0.06623425 0.06646453 0.06645757]\n",
      " [1.01396688 0.56197368 0.06179888 ... 0.06146122 0.06198864 0.06197196]\n",
      " ...\n",
      " [1.0871311  1.18150864 1.2711361  ... 0.06563128 0.0641331  0.06418331]\n",
      " [1.03820855 1.12724003 1.21194046 ... 0.06105827 0.06251811 0.0623503 ]\n",
      " [1.03996683 1.13433705 1.2224528  ... 0.05927961 0.12086226 0.05908892]]\n"
     ]
    }
   ],
   "source": [
    "adjacency = nx.adjacency_matrix(extended_graph)\n",
    "# S = np.random.rand(target_number_point, target_number_point)\n",
    "print(adjacency)\n",
    "print(S)"
   ]
  },
  {
   "cell_type": "code",
   "execution_count": 213,
   "metadata": {},
   "outputs": [],
   "source": [
    "A_s = np.zeros((target_number_point,target_number_point))   # Init A_s to 0\n",
    "A_s = np.matmul(np.matmul(S, adjacency.toarray()), S.T)     # A_s = S * A * S.T\n",
    "A_s = A_s/A_s.max()                                         # Normalize"
   ]
  },
  {
   "cell_type": "code",
   "execution_count": 214,
   "metadata": {},
   "outputs": [
    {
     "name": "stdout",
     "output_type": "stream",
     "text": [
      "[[1.15060574e-19 1.05676772e-19 9.81622640e-20 ... 1.21834869e-18\n",
      "  8.75277257e-19 8.92162484e-19]\n",
      " [1.05676772e-19 9.71655450e-20 9.07802782e-20 ... 1.13025777e-18\n",
      "  8.21732058e-19 8.37318937e-19]\n",
      " [9.81622640e-20 9.07802782e-20 8.48410334e-20 ... 1.05573115e-18\n",
      "  7.72362935e-19 7.86856508e-19]\n",
      " ...\n",
      " [1.21834869e-18 1.13025777e-18 1.05573115e-18 ... 2.00559219e-17\n",
      "  1.60032062e-17 1.64091099e-17]\n",
      " [8.75277257e-19 8.21732058e-19 7.72362935e-19 ... 1.60032062e-17\n",
      "  1.39940651e-17 1.43340385e-17]\n",
      " [8.92162484e-19 8.37318937e-19 7.86856508e-19 ... 1.64091099e-17\n",
      "  1.43340385e-17 1.46895447e-17]]\n",
      "(1500, 1500)\n"
     ]
    }
   ],
   "source": [
    "print(A_s)  # symmétrique\n",
    "print(A_s.shape)"
   ]
  },
  {
   "cell_type": "markdown",
   "metadata": {},
   "source": [
    "# Face Classifier"
   ]
  },
  {
   "cell_type": "markdown",
   "metadata": {},
   "source": [
    "### TriConv"
   ]
  },
  {
   "cell_type": "markdown",
   "metadata": {},
   "source": [
    "#### Inputs"
   ]
  },
  {
   "cell_type": "code",
   "execution_count": 215,
   "metadata": {},
   "outputs": [
    {
     "name": "stdout",
     "output_type": "stream",
     "text": [
      "IGRAPH UN-- 1500 11738 -- \n",
      "+ attr: name (v)\n"
     ]
    }
   ],
   "source": [
    "nodes = list(extended_graph.nodes())\n",
    "edges = list(extended_graph.edges())\n",
    "\n",
    "igraph_g = igraphGraph(directed=extended_graph.is_directed())\n",
    "\n",
    "igraph_g.add_vertices(nodes)\n",
    "igraph_g.add_edges([(nodes.index(u), nodes.index(v)) for u, v in edges])\n",
    "print(igraph_g.summary())"
   ]
  },
  {
   "cell_type": "code",
   "execution_count": 216,
   "metadata": {},
   "outputs": [
    {
     "name": "stdout",
     "output_type": "stream",
     "text": [
      "[[ 932 1169 1208]\n",
      " [1169 1207 1208]\n",
      " [ 915  916  919]]\n",
      "32379\n"
     ]
    }
   ],
   "source": [
    "triangles_ids_igraph = np.array(igraph_g.cliques(min=3, max=3))\n",
    "print(triangles_ids_igraph[:3])\n",
    "print(len(triangles_ids_igraph))"
   ]
  },
  {
   "cell_type": "code",
   "execution_count": 217,
   "metadata": {},
   "outputs": [
    {
     "name": "stdout",
     "output_type": "stream",
     "text": [
      "[[[76.92624   -6.5098743  1.6606928]\n",
      "  [75.48362   -5.0095077  2.311571 ]\n",
      "  [75.60344   -4.4479885  2.754807 ]]\n",
      "\n",
      " [[75.48362   -5.0095077  2.311571 ]\n",
      "  [75.49088   -4.4479885  2.6974556]\n",
      "  [75.60344   -4.4479885  2.754807 ]]\n",
      "\n",
      " [[75.35673   -2.6241417  3.6182384]\n",
      "  [75.12372   -2.6241417  3.419231 ]\n",
      "  [75.39199   -3.2518802  3.3159306]]]\n",
      "32379\n"
     ]
    }
   ],
   "source": [
    "triangles = np.array(igraph_g.vs['name'])[triangles_ids_igraph]   #les triangles\n",
    "# triangles = [list(map(tuple, row)) for row in triangles.tolist()]\n",
    "print(triangles[:3])\n",
    "print(len(triangles))"
   ]
  },
  {
   "cell_type": "code",
   "execution_count": 218,
   "metadata": {},
   "outputs": [],
   "source": [
    "# Extract indices for each triangle\n",
    "i, j, k = triangles_ids_igraph.T\n",
    "\n",
    "# Extract probabilities using advanced indexing\n",
    "A_s_ij = A_s[i, j]\n",
    "A_s_ik = A_s[i, k]\n",
    "A_s_jk = A_s[j, k]\n",
    "\n",
    "# Calculate the barycenter probabilities\n",
    "p_init = np.zeros(len(igraph_g.vs))\n",
    "p_init[i] = (A_s_ij + A_s_ik + A_s_jk) / 3"
   ]
  },
  {
   "cell_type": "markdown",
   "metadata": {},
   "source": [
    "#### Calculate barycenter"
   ]
  },
  {
   "cell_type": "code",
   "execution_count": 219,
   "metadata": {},
   "outputs": [
    {
     "name": "stdout",
     "output_type": "stream",
     "text": [
      "(32379, 3)\n",
      "[[76.00443   -5.322457   2.242357 ]\n",
      " [75.52598   -4.635162   2.5879445]\n",
      " [75.29081   -2.833388   3.4511335]]\n"
     ]
    }
   ],
   "source": [
    "barycenters = np.mean(triangles, axis=1)\n",
    "print(barycenters.shape)\n",
    "print(barycenters[:3])"
   ]
  },
  {
   "cell_type": "markdown",
   "metadata": {},
   "source": [
    "#### KNN Tri"
   ]
  },
  {
   "cell_type": "code",
   "execution_count": 220,
   "metadata": {},
   "outputs": [],
   "source": [
    "_, indices_neigh_tri = NearestNeighbors(n_neighbors=number_neigh_tri).fit(barycenters).kneighbors(barycenters)          # Find k='number_neigh_tri' neighbors of each triangles based on theirs barycenters"
   ]
  },
  {
   "cell_type": "markdown",
   "metadata": {},
   "source": [
    "Diff Barycenters"
   ]
  },
  {
   "cell_type": "code",
   "execution_count": 221,
   "metadata": {},
   "outputs": [
    {
     "name": "stdout",
     "output_type": "stream",
     "text": [
      "(32379, 19, 3)\n"
     ]
    }
   ],
   "source": [
    "# Calculates the difference between each barycenters and their n='number_neigh_tri'-1 neighbors\n",
    "barycenters_diff = np.subtract(barycenters[indices_neigh_tri[:, 0]][:, np.newaxis], barycenters[indices_neigh_tri[:, 1:]])   #Inverser la différence des barycentres si nécéssaire\n",
    "\n",
    "print(barycenters_diff.shape)"
   ]
  },
  {
   "cell_type": "markdown",
   "metadata": {},
   "source": [
    "#### calculate e norm matrix"
   ]
  },
  {
   "cell_type": "code",
   "execution_count": 222,
   "metadata": {},
   "outputs": [
    {
     "name": "stdout",
     "output_type": "stream",
     "text": [
      "(32379, 3)\n",
      "[[2.180801  2.682957  0.7253404]\n",
      " [0.6813689 0.7253404 0.1263255]]\n"
     ]
    }
   ],
   "source": [
    "diff_vectors = list()\n",
    "\n",
    "for triangle in triangles:\n",
    "    e_ij = np.linalg.norm(np.array(triangle[0]) - np.array(triangle[1]))    #Calculate the vectors for each edge of each triangles\n",
    "    e_ik = np.linalg.norm(np.array(triangle[0]) - np.array(triangle[2]))\n",
    "    e_jk = np.linalg.norm(np.array(triangle[1]) - np.array(triangle[2]))\n",
    "    diff_vectors.append([e_ij, e_ik, e_jk])\n",
    "\n",
    "diff_vectors = np.array(diff_vectors)\n",
    "print(diff_vectors.shape)\n",
    "print(diff_vectors[:2])"
   ]
  },
  {
   "cell_type": "markdown",
   "metadata": {},
   "source": [
    "#### Calculate r"
   ]
  },
  {
   "cell_type": "code",
   "execution_count": 223,
   "metadata": {},
   "outputs": [
    {
     "data": {
      "text/plain": [
       "(32379,)"
      ]
     },
     "execution_count": 223,
     "metadata": {},
     "output_type": "execute_result"
    }
   ],
   "source": [
    "max_diff_vectors = diff_vectors.max(axis=1)       # calculate t_n_max\n",
    "min_diff_vectors = diff_vectors.min(axis=1)       # calculate t_n_min\n",
    "max_diff_vectors.shape"
   ]
  },
  {
   "cell_type": "code",
   "execution_count": 224,
   "metadata": {},
   "outputs": [
    {
     "name": "stdout",
     "output_type": "stream",
     "text": [
      "(32379, 19)\n",
      "(32379, 19)\n"
     ]
    }
   ],
   "source": [
    "max_diff_vectors_diff = np.subtract(max_diff_vectors[indices_neigh_tri[:, 0]][:, np.newaxis], max_diff_vectors[indices_neigh_tri[:, 1:]])   #Inverser la différence des barycentres si nécéssaire   # calculate t_n_max - t_m_max\n",
    "print(max_diff_vectors_diff.shape)\n",
    "min_diff_vectors_diff = np.subtract(min_diff_vectors[indices_neigh_tri[:, 0]][:, np.newaxis], min_diff_vectors[indices_neigh_tri[:, 1:]])   #Inverser la différence des barycentres si nécéssaire   # calculate t_n_min - t_m_min\n",
    "print(min_diff_vectors_diff.shape)"
   ]
  },
  {
   "cell_type": "code",
   "execution_count": 225,
   "metadata": {},
   "outputs": [
    {
     "name": "stdout",
     "output_type": "stream",
     "text": [
      "(32379, 19, 5)\n"
     ]
    }
   ],
   "source": [
    "r_matrix = np.zeros((len(triangles), number_neigh_tri-1, 5))\n",
    "\n",
    "r_matrix[:, :, 0]   = min_diff_vectors_diff\n",
    "r_matrix[:, :, 1]   = max_diff_vectors_diff\n",
    "r_matrix[:, :, 2:5] = barycenters_diff\n",
    "\n",
    "print(r_matrix.shape)  # nb_triangles, len(indices_neigh_tri), 5dim/triangles\n",
    "\n",
    "# Here r_matrix[i,j] represent the relation between the triangles (n = i) and (m = indices_neigh_tri_array[i,j])"
   ]
  },
  {
   "cell_type": "markdown",
   "metadata": {},
   "source": [
    "#### Calculate f"
   ]
  },
  {
   "cell_type": "code",
   "execution_count": 226,
   "metadata": {},
   "outputs": [
    {
     "name": "stdout",
     "output_type": "stream",
     "text": [
      "0.9999999999999984\n",
      "(1500,)\n",
      "[0.00066589 0.00066589 0.00066589 ... 0.00066589 0.00066589 0.00066589]\n"
     ]
    },
    {
     "name": "stderr",
     "output_type": "stream",
     "text": [
      "C:\\Users\\Arthur\\AppData\\Local\\Temp\\ipykernel_5324\\474768578.py:5: UserWarning: Implicit dimension choice for softmax has been deprecated. Change the call to include dim=X as an argument.\n",
      "  final_scores = torch.nn.functional.softmax(torch.tensor(f_final))    #proba des triangles\n"
     ]
    }
   ],
   "source": [
    "# Multi Layer Perceptron (MLP) * 3 \n",
    "f_final = p_init    # TODO\n",
    "\n",
    "\n",
    "final_scores = torch.nn.functional.softmax(torch.tensor(f_final))    #proba des triangles\n",
    "final_scores = final_scores.numpy()\n",
    "print(final_scores.sum())\n",
    "print(final_scores.shape)\n",
    "print(final_scores)"
   ]
  },
  {
   "cell_type": "markdown",
   "metadata": {},
   "source": [
    "# Simplified Mesh"
   ]
  },
  {
   "cell_type": "code",
   "execution_count": 227,
   "metadata": {},
   "outputs": [
    {
     "name": "stdout",
     "output_type": "stream",
     "text": [
      "(500, 3, 3)\n",
      "[[[81.80516   8.722893 84.667404]\n",
      "  [81.9773    8.722893 84.306496]\n",
      "  [82.130325  8.722893 83.93707 ]]]\n"
     ]
    }
   ],
   "source": [
    "selected_triangles_indexes = np.argpartition(final_scores, -int(target_number_point/3))[-int(target_number_point/3):] \n",
    "selected_triangles = np.array(triangles)[selected_triangles_indexes]\n",
    "print(selected_triangles.shape) # number triangles, number points, number dimensions(x,y,z)\n",
    "print(selected_triangles[:1])"
   ]
  },
  {
   "cell_type": "code",
   "execution_count": 228,
   "metadata": {},
   "outputs": [
    {
     "name": "stdout",
     "output_type": "stream",
     "text": [
      "Number of nodes: 506\n",
      "Number of edges: 996\n"
     ]
    }
   ],
   "source": [
    "simplified_final_graph = nx.Graph()\n",
    "for index_poly, poly in enumerate(selected_triangles):\n",
    "    for index_current_node in range(len(poly)):\n",
    "        current_node = tuple(poly[index_current_node])\n",
    "        for index_other_node in range(index_current_node+1, len(poly)):\n",
    "            edge = current_node, tuple(poly[index_other_node])\n",
    "            simplified_final_graph.add_edge(*edge)\n",
    "            # if attribute do not exists\n",
    "            if len(simplified_final_graph.nodes[current_node])==0:\n",
    "                simplified_final_graph.nodes[current_node]['index_triangle'] = set()\n",
    "            simplified_final_graph.nodes[current_node]['index_triangle'].add(index_poly)\n",
    "            if len(simplified_final_graph.nodes[tuple(poly[index_other_node])])==0:\n",
    "                simplified_final_graph.nodes[tuple(poly[index_other_node])]['index_triangle'] = set()\n",
    "            simplified_final_graph.nodes[tuple(poly[index_other_node])]['index_triangle'].add(index_poly)\n",
    "            \n",
    "transformation.print_graph_properties(graph=simplified_final_graph, display_graph=False, display_labels=False)"
   ]
  },
  {
   "cell_type": "code",
   "execution_count": 229,
   "metadata": {},
   "outputs": [],
   "source": [
    "simplified_final_mesh = transformation.graph_to_mesh(simplified_final_graph)\n",
    "\n",
    "#Affichage\n",
    "transformation.mesh_to_display_vtk(mesh_data)\n",
    "transformation.mesh_to_display_vtk(simplified_final_mesh)"
   ]
  },
  {
   "cell_type": "markdown",
   "metadata": {},
   "source": [
    "# Fonctions Loss"
   ]
  },
  {
   "cell_type": "markdown",
   "metadata": {},
   "source": [
    "## Probabilistic Chamfer distance"
   ]
  },
  {
   "cell_type": "markdown",
   "metadata": {},
   "source": [
    "Récupération des points de l'espace de départ P"
   ]
  },
  {
   "cell_type": "code",
   "execution_count": 230,
   "metadata": {},
   "outputs": [
    {
     "name": "stdout",
     "output_type": "stream",
     "text": [
      "Les points avant K-NN :  [[75.0252     -0.66553295  3.8       ]\n",
      " [75.01418    -0.49935842 16.7       ]\n",
      " [75.          0.          3.8       ]\n",
      " ...\n",
      " [51.         -8.57404    -6.9813724 ]\n",
      " [39.         -8.699333   -6.327254  ]\n",
      " [51.         -8.699333   -6.327254  ]]\n",
      "dim points avant K-NN :  5999\n"
     ]
    }
   ],
   "source": [
    "keys_input = np.array(graph)\n",
    "print(\"Les points avant K-NN : \", keys_input)\n",
    "print(\"dim points avant K-NN : \", len(keys_input))  #return 5999"
   ]
  },
  {
   "cell_type": "markdown",
   "metadata": {},
   "source": [
    "Récupération des points de l'espace de départ Ps"
   ]
  },
  {
   "cell_type": "code",
   "execution_count": 231,
   "metadata": {},
   "outputs": [
    {
     "name": "stdout",
     "output_type": "stream",
     "text": [
      "sampled points :  [[86.45986    5.7970243 91.5185   ]\n",
      " [86.11996    6.2811418 91.212456 ]\n",
      " [86.62873    6.2811418 90.61676  ]\n",
      " ...\n",
      " [83.96025   -7.5075808 91.15137  ]\n",
      " [75.848564   3.8609922 81.475716 ]\n",
      " [75.887344   3.8609922 81.29327  ]]\n",
      "dim sample points :  1500\n"
     ]
    }
   ],
   "source": [
    "keys_output = np.array(extended_graph)\n",
    "print(\"sampled points : \", keys_output)\n",
    "print(\"dim sample points : \", len(keys_output))  #return: 50"
   ]
  },
  {
   "cell_type": "markdown",
   "metadata": {},
   "source": [
    "Distance Matrix"
   ]
  },
  {
   "cell_type": "code",
   "execution_count": 254,
   "metadata": {},
   "outputs": [
    {
     "name": "stdout",
     "output_type": "stream",
     "text": [
      "Squared Euclidean Distances Matrix Shape: (1500, 5999)\n",
      "Distances Matrix:\n",
      " [[ 7867.05161297  5768.45601571  7859.46939709 ... 11166.15440199\n",
      "  12036.37464803 11041.3379659 ]\n",
      " [ 7812.28735261  5721.41934522  7804.0436133  ... 11096.11569302\n",
      "  11958.69991718 10971.8209499 ]\n",
      " [ 7720.04808769  5644.56023521  7711.82999046 ... 11015.47838291\n",
      "  11891.0524893  10891.96295073]\n",
      " ...\n",
      " [ 7756.91011183  5672.15327213  7766.91122206 ... 10717.55004298\n",
      "  11524.925984   10589.87996349]\n",
      " [ 6054.6841657   4215.60208673  6049.14412899 ...  8596.73759244\n",
      "   9224.93989876  8484.57435921]\n",
      " [ 6026.4390516   4192.06502039  6020.9009694  ...  8566.42177451\n",
      "   9195.79349292  8454.49722827]]\n"
     ]
    }
   ],
   "source": [
    "def matrix_distance_euclidienne_barycentres(barycentre_b, barycentre_b_hat):\n",
    "    \"\"\"\n",
    "    Calculate distances between barycenters b et b_hat after the k-NN process.\n",
    "\n",
    "    Parameters:\n",
    "    - b_hat: array-like, shape (M, 3)\n",
    "        Barycenters after k-NN.\n",
    "    - number_neigh: int, optional (default=3)\n",
    "        Number of neighbors for k-NN.\n",
    "\n",
    "    Returns:\n",
    "    - distances_after: array-like, shape (M, M)\n",
    "        Matrix of distances between barycenters after the k-NN process.\n",
    "    \"\"\"\n",
    "    return cdist(barycentre_b, barycentre_b_hat, metric='sqeuclidean').T\n",
    "\n",
    "distances_matrix = matrix_distance_euclidienne_barycentres(keys_input, keys_output)\n",
    "print(\"Squared Euclidean Distances Matrix Shape:\", distances_matrix.shape)\n",
    "print(\"Distances Matrix:\\n\", distances_matrix)\n",
    "\n",
    "\n"
   ]
  },
  {
   "cell_type": "code",
   "execution_count": 255,
   "metadata": {},
   "outputs": [],
   "source": [
    "# Calculer le min des x de distances_matrix\n",
    "def min_pour_x_list(distances_matrix, x_in):\n",
    "    return np.min(distances_matrix[:, x_in])\n",
    "\n",
    "# Calculer le min des y de distances_matrix\n",
    "def min_pour_y_list(distances_matrix, y_out):\n",
    "    return np.min(distances_matrix[y_out, :])\n"
   ]
  },
  {
   "cell_type": "code",
   "execution_count": 256,
   "metadata": {},
   "outputs": [],
   "source": [
    "def d_P_Ps(keys_x, keys_y, p_y):\n",
    "    \"\"\"\n",
    "    Calculate the Probabilistic Chamfer distance between two sets of points.\n",
    "\n",
    "    Parameters:\n",
    "    - keys_x (list): The input vertex set, a list of tuples.\n",
    "    - keys_y (list): The sampled points, a list of tuples.\n",
    "    - p_y (list): Their respective probabilities, a weight associated with each point in keys_y.\n",
    "\n",
    "    Returns:\n",
    "        chamfer_distance (float): The Probabilistic Chamfer distance between the two sets of points.\n",
    "    \"\"\"\n",
    "    min_for_x = [p_y[i] * min_pour_x_list(distances_matrix, i) for i in range(len(keys_x))]\n",
    "    min_for_y = [p_y[j] * min_pour_y_list(distances_matrix, j) for j in range(len(keys_y))]\n",
    "    \n",
    "    sum_for_y = np.sum(min_for_y)\n",
    "    sum_for_x = np.sum(min_for_x)\n",
    "\n",
    "    chamfer_distance = sum_for_y + sum_for_x\n",
    "    \n",
    "    return chamfer_distance\n"
   ]
  },
  {
   "cell_type": "code",
   "execution_count": 257,
   "metadata": {},
   "outputs": [
    {
     "name": "stdout",
     "output_type": "stream",
     "text": [
      "PROBA :  [0.00021886 0.0002189  0.00021886 ... 0.00021469 0.00023788 0.00021469]\n"
     ]
    }
   ],
   "source": [
    "print(\"PROBA : \", normalized_inclusion_score)"
   ]
  },
  {
   "cell_type": "code",
   "execution_count": 258,
   "metadata": {},
   "outputs": [
    {
     "name": "stdout",
     "output_type": "stream",
     "text": [
      "Chamfer Distance: 3.5601460037725214\n"
     ]
    }
   ],
   "source": [
    "prob_chamfer_dist = d_P_Ps(keys_input, keys_output, normalized_inclusion_score)\n",
    "print(\"Chamfer Distance:\", prob_chamfer_dist)"
   ]
  },
  {
   "cell_type": "markdown",
   "metadata": {},
   "source": [
    "## Probabilistic Surfaces Distance"
   ]
  },
  {
   "cell_type": "markdown",
   "metadata": {},
   "source": [
    "barycentres b et b_hat"
   ]
  },
  {
   "cell_type": "code",
   "execution_count": 259,
   "metadata": {},
   "outputs": [
    {
     "name": "stdout",
     "output_type": "stream",
     "text": [
      "IGRAPH UN-- 5999 17991 -- \n",
      "+ attr: name (v)\n",
      "triangles shape :  (11994, 3, 3)\n",
      "[[39.        8.793697 -4.666995]\n",
      " [51.        8.793697 -4.666995]\n",
      " [39.        8.793697 -5.333005]]\n",
      "shape b :  (11994, 3)\n",
      "Barycentre b:  [[43.          8.793697   -4.8889985 ]\n",
      " [55.          1.0515273   3.7313068 ]\n",
      " [55.         -8.515905   -2.804371  ]\n",
      " ...\n",
      " [75.05613    -0.94137865 21.        ]\n",
      " [75.01313    -0.3882971   8.099999  ]\n",
      " [75.03516    -0.72036856 25.300001  ]]\n"
     ]
    }
   ],
   "source": [
    "# Creation igraph\n",
    "nodes_original = list(graph.nodes())\n",
    "edges_original = list(graph.edges())\n",
    "igraph_g_original = igraphGraph(directed=extended_graph.is_directed())\n",
    "igraph_g_original.add_vertices(nodes_original)\n",
    "igraph_g_original.add_edges([(nodes_original.index(u), nodes_original.index(v)) for u, v in edges_original])\n",
    "print(igraph_g_original.summary())\n",
    "\n",
    "#Find triangles\n",
    "triangles_ids_igraph_original = np.array(igraph_g_original.cliques(min=3, max=3))\n",
    "triangles = np.array(igraph_g_original.vs['name'])[triangles_ids_igraph_original]\n",
    "print(\"triangles shape : \", triangles.shape)\n",
    "print(triangles[0])\n",
    "\n",
    "# Calculate barycenters\n",
    "b = np.mean(triangles, axis=1)\n",
    "print(\"shape b : \", b.shape)\n",
    "print(\"Barycentre b: \", b)"
   ]
  },
  {
   "cell_type": "code",
   "execution_count": 260,
   "metadata": {},
   "outputs": [
    {
     "name": "stdout",
     "output_type": "stream",
     "text": [
      "(32379, 3)\n",
      "B_HAT :  [[76.00443    -5.322457    2.242357  ]\n",
      " [75.52598    -4.635162    2.5879445 ]\n",
      " [75.29081    -2.833388    3.4511335 ]\n",
      " ...\n",
      " [75.177986   -2.195629   81.402336  ]\n",
      " [75.06988    -1.0990705  81.337135  ]\n",
      " [75.058784   -0.21676879 81.2705    ]]\n"
     ]
    }
   ],
   "source": [
    "b_hat = barycenters\n",
    "print(b_hat.shape)\n",
    "print(\"B_HAT : \", b_hat)"
   ]
  },
  {
   "cell_type": "markdown",
   "metadata": {},
   "source": [
    "test matrice des normes euclidiennes entre b et b_hat"
   ]
  },
  {
   "cell_type": "code",
   "execution_count": 261,
   "metadata": {},
   "outputs": [
    {
     "name": "stdout",
     "output_type": "stream",
     "text": [
      "(32379, 11994)\n",
      "Distances euclidiennes entre les barycentres b et b_hat :\n",
      " [[1339.41461725  484.03083686  476.85377059 ...  371.94229538\n",
      "    59.64058746  553.77366603]\n",
      " [1294.17818779  454.96148715  465.45301444 ...  352.8685797\n",
      "    48.68162275  531.40402943]\n",
      " [1247.44330439  426.88801987  483.13929615 ...  311.59749029\n",
      "    27.66753028  481.90322797]\n",
      " ...\n",
      " [8602.38251559 6450.48394496 7537.86656395 ... 3650.03020151\n",
      "  5376.52619024 3149.66878316]\n",
      " [8561.29006183 6430.08967965 7537.60253167 ... 3640.59495376\n",
      "  5364.1864921  3140.30502681]\n",
      " [8532.41337755 6416.28992173 7539.8144876  ... 3633.05825883\n",
      "  5353.95368706 3132.95093367]]\n"
     ]
    }
   ],
   "source": [
    "distances = matrix_distance_euclidienne_barycentres(b, b_hat)\n",
    "print(distances.shape)\n",
    "print(\"Distances euclidiennes entre les barycentres b et b_hat :\\n\", distances)\n"
   ]
  },
  {
   "cell_type": "markdown",
   "metadata": {},
   "source": [
    "matrice sqeuclidean b"
   ]
  },
  {
   "cell_type": "code",
   "execution_count": 268,
   "metadata": {},
   "outputs": [
    {
     "name": "stdout",
     "output_type": "stream",
     "text": [
      "(11994,)\n",
      "[1950.2314 3040.0283 3105.3853 ... 6075.3086 5692.7305 6270.884 ]\n"
     ]
    }
   ],
   "source": [
    "def normes_euclidiennes_carrees_b(bar_b):\n",
    "    # Calculer la matrice des normes euclidiennes au carré\n",
    "    normes_carrees = np.sum(bar_b**2, axis=1)\n",
    "\n",
    "    return normes_carrees\n",
    "\n",
    "matrix_b = normes_euclidiennes_carrees_b(b)\n",
    "print(matrix_b.shape)\n",
    "print(matrix_b)"
   ]
  },
  {
   "cell_type": "code",
   "execution_count": 265,
   "metadata": {},
   "outputs": [
    {
     "name": "stdout",
     "output_type": "stream",
     "text": [
      "Distances After k-NN:\n",
      " [[ 0.          0.10401448  0.10536496 ... 79.23180989 79.21296825\n",
      "  79.19854616]\n",
      " [ 0.10401448  0.          0.15702782 ... 79.14440044 79.12624607\n",
      "  79.11235943]\n",
      " [ 0.10536496  0.15702782  0.         ... 79.20928355 79.19032019\n",
      "  79.17589764]\n",
      " ...\n",
      " [79.23180989 79.14440044 79.20928355 ...  0.          1.10377604\n",
      "   1.98698228]\n",
      " [79.21296825 79.12624607 79.19032019 ...  1.10377604  0.\n",
      "   0.884884  ]\n",
      " [79.19854616 79.11235943 79.17589764 ...  1.98698228  0.884884\n",
      "   0.        ]]\n"
     ]
    }
   ],
   "source": [
    "def matrix_distances_after_knn(b_hat_n, number_neigh=3):\n",
    "    \"\"\"\n",
    "    Calculate distances between barycenters after the k-NN process.\n",
    "\n",
    "    Parameters:\n",
    "    - b_hat: array-like, shape (M, 3)\n",
    "        Barycenters after k-NN.\n",
    "    - number_neigh: int, optional (default=3)\n",
    "        Number of neighbors for k-NN.\n",
    "\n",
    "    Returns:\n",
    "    - distances_after: array-like, shape (M, M)\n",
    "        Matrix of distances between barycenters after the k-NN process.\n",
    "    \"\"\"\n",
    "\n",
    "    # Connect the extended graph using the k-NN process\n",
    "    extended_graph = knn_and_extended_graph(b_hat_n, number_neigh)\n",
    "\n",
    "    # Extract barycenters after the k-NN process\n",
    "    b_hat_extended = np.array(list(extended_graph._node.keys()))\n",
    "\n",
    "    # Calculate distances after k-NN\n",
    "    distances_after = cdist(b_hat_extended, b_hat_extended)\n",
    "\n",
    "    return distances_after\n",
    "\n",
    "# Example usage with b_hat\n",
    "distances_after = matrix_distances_after_knn(b_hat)\n",
    "\n",
    "# Print the results\n",
    "print(\"Distances After k-NN:\\n\", distances_after)"
   ]
  },
  {
   "cell_type": "code",
   "execution_count": 182,
   "metadata": {},
   "outputs": [
    {
     "name": "stdout",
     "output_type": "stream",
     "text": [
      "b shape: (5999, 3)\n",
      "b_hat shape: (1500, 3)\n",
      "p_b_hat shape: (5999,)\n"
     ]
    },
    {
     "ename": "ValueError",
     "evalue": "operands could not be broadcast together with shapes (1500,1500) (5999,) ",
     "output_type": "error",
     "traceback": [
      "\u001b[1;31m---------------------------------------------------------------------------\u001b[0m",
      "\u001b[1;31mValueError\u001b[0m                                Traceback (most recent call last)",
      "Cell \u001b[1;32mIn[182], line 32\u001b[0m\n\u001b[0;32m     26\u001b[0m     d_S_Ss \u001b[38;5;241m=\u001b[39m np\u001b[38;5;241m.\u001b[39msum(p_b_hat_i \u001b[38;5;241m*\u001b[39m np\u001b[38;5;241m.\u001b[39mmin(np\u001b[38;5;241m.\u001b[39msum(dist_matrixs_1)\u001b[38;5;241m*\u001b[39m\u001b[38;5;241m*\u001b[39m\u001b[38;5;241m2\u001b[39m))\n\u001b[0;32m     30\u001b[0m     \u001b[38;5;28;01mreturn\u001b[39;00m d_S_Ss\n\u001b[1;32m---> 32\u001b[0m result_distance \u001b[38;5;241m=\u001b[39m \u001b[43mprobabilistic_surface_distance_extended\u001b[49m\u001b[43m(\u001b[49m\u001b[43mb\u001b[49m\u001b[43m,\u001b[49m\u001b[43m \u001b[49m\u001b[43mb_hat\u001b[49m\u001b[43m,\u001b[49m\u001b[43m \u001b[49m\u001b[43mnormalized_inclusion_score\u001b[49m\u001b[43m)\u001b[49m\n\u001b[0;32m     33\u001b[0m \u001b[38;5;28mprint\u001b[39m(\u001b[38;5;124m\"\u001b[39m\u001b[38;5;124mProbabilistic Surfaces Distance:\u001b[39m\u001b[38;5;124m\"\u001b[39m, result_distance)\n",
      "Cell \u001b[1;32mIn[182], line 23\u001b[0m, in \u001b[0;36mprobabilistic_surface_distance_extended\u001b[1;34m(b_i, b_hat_i, p_b_hat_i)\u001b[0m\n\u001b[0;32m     20\u001b[0m \u001b[38;5;28mprint\u001b[39m(\u001b[38;5;124m\"\u001b[39m\u001b[38;5;124mp_b_hat shape:\u001b[39m\u001b[38;5;124m\"\u001b[39m, p_b_hat_i\u001b[38;5;241m.\u001b[39mshape)\n\u001b[0;32m     22\u001b[0m p_b_hat_i \u001b[38;5;241m=\u001b[39m normalized_inclusion_score\u001b[38;5;241m.\u001b[39mreshape((\u001b[38;5;241m-\u001b[39m\u001b[38;5;241m1\u001b[39m, \u001b[38;5;241m1\u001b[39m))\n\u001b[1;32m---> 23\u001b[0m dist_matrixs_1\u001b[38;5;241m=\u001b[39m \u001b[43mdistances_after\u001b[49m\u001b[43m \u001b[49m\u001b[38;5;241;43m-\u001b[39;49m\u001b[43m \u001b[49m\u001b[43mmatrix_b\u001b[49m\n\u001b[0;32m     24\u001b[0m \u001b[38;5;66;03m#dist_matrixs_2= matrix_b - distances_after\u001b[39;00m\n\u001b[0;32m     26\u001b[0m d_S_Ss \u001b[38;5;241m=\u001b[39m np\u001b[38;5;241m.\u001b[39msum(p_b_hat_i \u001b[38;5;241m*\u001b[39m np\u001b[38;5;241m.\u001b[39mmin(np\u001b[38;5;241m.\u001b[39msum(dist_matrixs_1)\u001b[38;5;241m*\u001b[39m\u001b[38;5;241m*\u001b[39m\u001b[38;5;241m2\u001b[39m))\n",
      "\u001b[1;31mValueError\u001b[0m: operands could not be broadcast together with shapes (1500,1500) (5999,) "
     ]
    }
   ],
   "source": [
    "def probabilistic_surface_distance_extended(b_i, b_hat_i, p_b_hat_i):\n",
    "    \"\"\"\n",
    "    Calculate Probabilistic Surfaces Distance \n",
    "\n",
    "    Parameters:\n",
    "    - b: array-like, shape (N, 3)\n",
    "        Barycenters of the ground truth surface.\n",
    "    - b_hat: array-like, shape (M, 3)\n",
    "        Barycenters of the generated triangles.\n",
    "    - p_b_hat: array-like, shape (M,)\n",
    "        Probabilities corresponding to the generated triangles.\n",
    "\n",
    "    Returns:\n",
    "    - d_S_Ss: float\n",
    "        Probabilistic Surfaces Distance.\n",
    "    \"\"\"\n",
    "    # Debugging print statements\n",
    "    print(\"b shape:\", b_i.shape)\n",
    "    print(\"b_hat shape:\", b_hat_i.shape)\n",
    "    print(\"p_b_hat shape:\", p_b_hat_i.shape)\n",
    "\n",
    "    p_b_hat_i = normalized_inclusion_score.reshape((-1, 1))\n",
    "    dist_matrixs_1= distances_after - matrix_b\n",
    "    #dist_matrixs_2= matrix_b - distances_after\n",
    "\n",
    "    d_S_Ss = np.sum(p_b_hat_i * np.min(np.sum(dist_matrixs_1)**2))\n",
    "\n",
    "    \n",
    "\n",
    "    return d_S_Ss\n",
    "\n",
    "result_distance = probabilistic_surface_distance_extended(b, b_hat, normalized_inclusion_score)\n",
    "print(\"Probabilistic Surfaces Distance:\", result_distance)"
   ]
  },
  {
   "cell_type": "markdown",
   "metadata": {},
   "source": [
    "## Triangle Collision Loss"
   ]
  },
  {
   "cell_type": "code",
   "execution_count": null,
   "metadata": {},
   "outputs": [],
   "source": [
    "def triangle_collision_loss(generated_triangles, probabilities):\n",
    "    \"\"\"\n",
    "    Calculate triangle collision loss to penalize triangles that penetrate each other.\n",
    "\n",
    "    Parameters:\n",
    "    - generated_triangles (numpy.ndarray): Array representing the generated triangles.\n",
    "    - probabilities (numpy.ndarray): Array of probabilities for each generated triangle.\n",
    "\n",
    "    Returns:\n",
    "    - float: Triangle collision loss.\n",
    "    \"\"\"\n",
    "    num_triangles = len(generated_triangles)\n",
    "\n",
    "    # Create a 3D array to represent all combinations of triangle pairs\n",
    "    triangle_pairs_i, triangle_pairs_j = np.meshgrid(range(num_triangles), range(num_triangles), indexing='ij')\n",
    "\n",
    "    # Filter out pairs where i is not equal to j\n",
    "    valid_pairs_mask = triangle_pairs_i != triangle_pairs_j\n",
    "\n",
    "    # Extract triangles and probabilities for each pair\n",
    "    triangles_i = generated_triangles[triangle_pairs_i[valid_pairs_mask]]\n",
    "    triangles_j = generated_triangles[triangle_pairs_j[valid_pairs_mask]]\n",
    "    probs_i = probabilities[triangle_pairs_i[valid_pairs_mask]]\n",
    "\n",
    "    # Calculate the plane normals and distances for all triangles\n",
    "    plane_normals = np.cross(triangles_i[:, 1] - triangles_i[:, 0], triangles_i[:, 2] - triangles_i[:, 0])\n",
    "\n",
    "    # Calculate the edge vectors for all edges of triangles_j\n",
    "    edge_vectors = triangles_j[:, [1, 2, 0], :] - triangles_j[:, [0, 1, 2], :]\n",
    "\n",
    "    # Calculate the dot product of edge vectors and plane normals\n",
    "    dot_products = np.sum(np.cross(edge_vectors, plane_normals[:, np.newaxis, :]) * triangles_i[:, 0], axis=2)\n",
    "\n",
    "    # Count the number of faces penetrated for each triangle\n",
    "    faces_penetrated = np.sum(dot_products < 0, axis=1)\n",
    "\n",
    "    # Calculate the loss for each triangle\n",
    "    loss_per_triangle = probs_i * faces_penetrated\n",
    "\n",
    "    # Sum up the losses and normalize by the number of triangles\n",
    "    triangle_losses = np.sum(loss_per_triangle) / num_triangles\n",
    "\n",
    "    return triangle_losses\n",
    "\n"
   ]
  }
 ],
 "metadata": {
  "kernelspec": {
   "display_name": "meshPFE",
   "language": "python",
   "name": "python3"
  },
  "language_info": {
   "codemirror_mode": {
    "name": "ipython",
    "version": 3
   },
   "file_extension": ".py",
   "mimetype": "text/x-python",
   "name": "python",
   "nbconvert_exporter": "python",
   "pygments_lexer": "ipython3",
   "version": "3.10.13"
  }
 },
 "nbformat": 4,
 "nbformat_minor": 2
}
