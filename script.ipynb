{
 "cells": [
  {
   "cell_type": "markdown",
   "metadata": {},
   "source": [
    "# Imports"
   ]
  },
  {
   "cell_type": "code",
   "execution_count": 1,
   "metadata": {},
   "outputs": [],
   "source": [
    "from Transformation import Transformation\n",
    "import numpy as np\n",
    "from sklearn.neighbors import NearestNeighbors\n",
    "import networkx as nx\n",
    "import torch\n",
    "import torch.nn as nn\n",
    "from numpy import mean\n",
    "from igraph import Graph as igraphGraph\n",
    "import matplotlib.pyplot as plt\n",
    "from mpl_toolkits.mplot3d import Axes3D\n",
    "import scipy.spatial.distance\n",
    "from scipy.spatial.distance import cdist\n",
    "from shapely.geometry import LineString, MultiLineString, Polygon, MultiPolygon, LinearRing"
   ]
  },
  {
   "cell_type": "markdown",
   "metadata": {},
   "source": [
    "# Input"
   ]
  },
  {
   "cell_type": "code",
   "execution_count": 2,
   "metadata": {},
   "outputs": [
    {
     "name": "stdout",
     "output_type": "stream",
     "text": [
      "Number of nodes: 5999\n",
      "Number of edges: 17991\n"
     ]
    }
   ],
   "source": [
    "transformation = Transformation()\n",
    "\n",
    "user_number_triangles = 500   #à diminuer si le process est trop long\n",
    "number_neigh_tri = 20\n",
    "\n",
    "# Create objects\n",
    "stl_file_path = \"3d_models/stl/Handle.stl\"\n",
    "mesh_data = transformation.stl_to_mesh(stl_file_path)\n",
    "graph = transformation.mesh_to_graph(mesh_data)\n",
    "\n",
    "transformation.print_graph_properties(graph, display_graph=False, display_labels=False)"
   ]
  },
  {
   "cell_type": "code",
   "execution_count": 3,
   "metadata": {},
   "outputs": [],
   "source": [
    "if len(graph._node)<20:\n",
    "    raise Exception(\"Input mesh does not have enough vertices. (More than 20 is needed)\")"
   ]
  },
  {
   "cell_type": "markdown",
   "metadata": {},
   "source": [
    "# Point Sampler"
   ]
  },
  {
   "cell_type": "markdown",
   "metadata": {},
   "source": [
    "### DevConv"
   ]
  },
  {
   "cell_type": "code",
   "execution_count": 4,
   "metadata": {},
   "outputs": [],
   "source": [
    "def relu(array):\n",
    "    return np.maximum(array, 0)\n",
    "\n",
    "def sigmoid(array):\n",
    "    return 1 / (1 + np.exp(-array))"
   ]
  },
  {
   "cell_type": "code",
   "execution_count": 5,
   "metadata": {},
   "outputs": [],
   "source": [
    "class DevConv():\n",
    "    def __init__(self, graph, output_dimension):\n",
    "        self.graph = graph\n",
    "        self.list_node = list(graph._node)\n",
    "\n",
    "        self.W_phi = np.random.random((output_dimension))      #change\n",
    "        self.W_theta = np.array([0.1, 0.1, 0.1]).reshape(1, -1)  # change\n",
    "    \n",
    "    def forward(self, previous_inclusion_score, return_flatten=True):\n",
    "        list_inc_score = np.zeros((len(self.list_node), len(self.W_phi)))                               #list of \"output_dimension\" for each \"list_node\" element\n",
    "        for index_current_node, (current_node, dict_neigh) in enumerate(self.graph._adj.items()):       # for each node and its adjacency nodes\n",
    "            neigh_nodes = np.array(list(dict_neigh.keys()))                                             # array of adjacency nodes\n",
    "            diff = current_node - neigh_nodes                                                           # Compute the differences between current_node and all neighbor nodes   (x_i - x_j)\n",
    "            neigh_distances = np.linalg.norm(self.W_theta * diff, axis=1)                               # Compute the norm for each vector difference  ||W_theta * (x_i - x_j)||\n",
    "            list_inc_score[index_current_node] = self.W_phi * np.max(neigh_distances)                   # Add (W_phi * ||W_theta * (x_i - x_j)||) to the inclusion score list\n",
    "\n",
    "        if len(previous_inclusion_score)==0:                            # return if no previous inclusion score\n",
    "            if return_flatten:\n",
    "                list_inc_score = list_inc_score.flatten()\n",
    "            return list_inc_score\n",
    "        \n",
    "        if list_inc_score.shape[1]!=1:                                  # If inclusion score is not vector\n",
    "            list_inc_score = np.mean(list_inc_score, axis=1)            # Mean the matrix for each node\n",
    "\n",
    "        # array of array to array\n",
    "        if len(list_inc_score.shape)==2:                 \n",
    "            if list_inc_score.shape[1]==1:\n",
    "                list_inc_score = list_inc_score.flatten()\n",
    "\n",
    "        # Return the mean of previous and current inclusion score\n",
    "        return np.mean(np.array([previous_inclusion_score, list_inc_score], dtype=np.float64), axis=0)\n",
    "        "
   ]
  },
  {
   "cell_type": "code",
   "execution_count": 6,
   "metadata": {},
   "outputs": [
    {
     "name": "stdout",
     "output_type": "stream",
     "text": [
      "[0.6595211  0.65990481 0.6595211  ... 0.61399193 0.89125932 0.61399193]\n",
      "[0.66237132 0.66275669 0.66237132 ... 0.61664539 0.89511104 0.61664539]\n",
      "[0.59132718 0.59137912 0.59132718 ... 0.58514965 0.62228802 0.58514965]\n",
      "(5999,)\n"
     ]
    }
   ],
   "source": [
    "devconv = DevConv(graph, 1)\n",
    "inclusion_score = devconv.forward(previous_inclusion_score=np.array([]))\n",
    "inclusion_score = relu(inclusion_score)\n",
    "print(inclusion_score)\n",
    "\n",
    "devconv = DevConv(graph, 64)\n",
    "inclusion_score = devconv.forward(previous_inclusion_score=inclusion_score)\n",
    "inclusion_score = relu(inclusion_score)\n",
    "print(inclusion_score)\n",
    "\n",
    "devconv = DevConv(graph, 1)\n",
    "inclusion_score = devconv.forward(previous_inclusion_score=inclusion_score)\n",
    "inclusion_score = sigmoid(inclusion_score)\n",
    "print(inclusion_score)\n",
    "print(inclusion_score.shape)"
   ]
  },
  {
   "cell_type": "markdown",
   "metadata": {},
   "source": [
    "### Multinomial Sampling"
   ]
  },
  {
   "cell_type": "code",
   "execution_count": 7,
   "metadata": {},
   "outputs": [
    {
     "name": "stdout",
     "output_type": "stream",
     "text": [
      "[0 0 0 ... 0 0 0]\n"
     ]
    }
   ],
   "source": [
    "normalized_inclusion_score = inclusion_score / np.sum(inclusion_score)  # normalize for multinomial sampling\n",
    "normalized_inclusion_score = np.round(normalized_inclusion_score, 8)    # round to remove float imprecision\n",
    "\n",
    "number_throws = 500     # small:more randomness    |   big:less randomness\n",
    "mult_sampling = np.random.multinomial(number_throws, normalized_inclusion_score)\n",
    "print(mult_sampling)"
   ]
  },
  {
   "cell_type": "code",
   "execution_count": 8,
   "metadata": {},
   "outputs": [
    {
     "data": {
      "text/plain": [
       "array([[89.11374  ,  5.2797017, 88.39131  ],\n",
       "       [87.81501  ,  5.2797017, 90.51065  ],\n",
       "       [86.77158  ,  5.2797017, 91.79918  ],\n",
       "       [90.06495  ,  5.2797017, 86.0949   ],\n",
       "       [90.30048  ,  5.2797017, 85.29975  ]], dtype=float32)"
      ]
     },
     "execution_count": 8,
     "metadata": {},
     "output_type": "execute_result"
    }
   ],
   "source": [
    "target_number_point = min(len(graph._node), user_number_triangles*3)   # number of points for the simplification\n",
    "\n",
    "index_k_nodes = np.argpartition(mult_sampling, -target_number_point)[-target_number_point:]     # Take the k (\"target_number_points\") largest values given by the multinomial sampling \n",
    "list_k_nodes = np.array(graph)[index_k_nodes]                                # Take the selected nodes (list of list of 3)\n",
    "list_k_nodes[:5]"
   ]
  },
  {
   "cell_type": "markdown",
   "metadata": {},
   "source": [
    "# KNN extended graph"
   ]
  },
  {
   "cell_type": "code",
   "execution_count": 9,
   "metadata": {},
   "outputs": [
    {
     "data": {
      "text/plain": [
       "\"\\n_, indices = NearestNeighbors(n_neighbors=15).fit(list_k_nodes).kneighbors(list_k_nodes)        # KNN of the selected points\\n\\nextended_graph = nx.Graph()\\nfor index_poly, poly in enumerate(indices):                                 # For the neighbors of the 'index_poly' node\\n    current_node = tuple(list_k_nodes[poly[0]])                             # Tuple of the main node coordinates\\n    for index_other_node in poly[1:]:                                       # For every neighbors of the main node (main node is the first index)\\n        edge = current_node, tuple(list_k_nodes[index_other_node])          # Create an edge of two tuples\\n        extended_graph.add_edge(*edge)                                      # Add the edge to the graph\\n\\ntransformation.print_graph_properties(graph=extended_graph, display_graph=False, display_labels=False)\\n\""
      ]
     },
     "execution_count": 9,
     "metadata": {},
     "output_type": "execute_result"
    }
   ],
   "source": [
    "\"\"\"\n",
    "_, indices = NearestNeighbors(n_neighbors=15).fit(list_k_nodes).kneighbors(list_k_nodes)        # KNN of the selected points\n",
    "\n",
    "extended_graph = nx.Graph()\n",
    "for index_poly, poly in enumerate(indices):                                 # For the neighbors of the 'index_poly' node\n",
    "    current_node = tuple(list_k_nodes[poly[0]])                             # Tuple of the main node coordinates\n",
    "    for index_other_node in poly[1:]:                                       # For every neighbors of the main node (main node is the first index)\n",
    "        edge = current_node, tuple(list_k_nodes[index_other_node])          # Create an edge of two tuples\n",
    "        extended_graph.add_edge(*edge)                                      # Add the edge to the graph\n",
    "\n",
    "transformation.print_graph_properties(graph=extended_graph, display_graph=False, display_labels=False)\n",
    "\"\"\""
   ]
  },
  {
   "cell_type": "code",
   "execution_count": 10,
   "metadata": {},
   "outputs": [
    {
     "name": "stdout",
     "output_type": "stream",
     "text": [
      "Number of nodes: 1500\n",
      "Number of edges: 11736\n"
     ]
    }
   ],
   "source": [
    "def knn_and_extended_graph(list_k_nodes_i, k_neighbors=15):\n",
    "    \"\"\"\n",
    "    Perform k-NN on the given points and construct an extended graph.\n",
    "\n",
    "    Parameters:\n",
    "    - list_k_nodes_i: array-like\n",
    "        List of coordinates of the selected points.\n",
    "    - k_neighbors: int, optional (default=15)\n",
    "        Number of neighbors for k-NN.\n",
    "\n",
    "    Returns:\n",
    "    - extended_graph_i: networkx.Graph\n",
    "        Extended graph.\n",
    "    \"\"\"\n",
    "\n",
    "    # Perform k-NN on the selected points\n",
    "    _, indices = NearestNeighbors(n_neighbors=k_neighbors).fit(list_k_nodes_i).kneighbors(list_k_nodes_i)\n",
    "\n",
    "    # Construct the extended graph\n",
    "    extended_graph_i = nx.Graph()\n",
    "    for poly in indices:\n",
    "        current_node = tuple(list_k_nodes_i[poly[0]])\n",
    "        for index_other_node in poly[1:]:\n",
    "            edge = current_node, tuple(list_k_nodes_i[index_other_node])\n",
    "            extended_graph_i.add_edge(*edge)\n",
    "\n",
    "    return extended_graph_i\n",
    "\n",
    "extended_graph = knn_and_extended_graph(list_k_nodes)\n",
    "transformation.print_graph_properties(graph=extended_graph, display_graph=False, display_labels=False)"
   ]
  },
  {
   "cell_type": "markdown",
   "metadata": {},
   "source": [
    "# Edge Predictor"
   ]
  },
  {
   "cell_type": "code",
   "execution_count": 11,
   "metadata": {},
   "outputs": [
    {
     "data": {
      "text/plain": [
       "(1500, 64)"
      ]
     },
     "execution_count": 11,
     "metadata": {},
     "output_type": "execute_result"
    }
   ],
   "source": [
    "devconv = DevConv(extended_graph, 64)\n",
    "inclusion_score = devconv.forward(previous_inclusion_score=np.array([]), return_flatten=False)\n",
    "inclusion_score.shape"
   ]
  },
  {
   "cell_type": "code",
   "execution_count": 12,
   "metadata": {},
   "outputs": [
    {
     "name": "stdout",
     "output_type": "stream",
     "text": [
      "torch.Size([1500, 1500])\n"
     ]
    }
   ],
   "source": [
    "class SparseAttentionEdgePredictorLayer(nn.Module):\n",
    "    def __init__(self, nodes, neighbors, size=64):\n",
    "        super().__init__()\n",
    "        self.size = size\n",
    "        self.nodes = nodes\n",
    "        self.neighbors = neighbors\n",
    "        self.wq = nn.Parameter(torch.Tensor(size))\n",
    "        self.wk = nn.Parameter(torch.Tensor(size))\n",
    "\n",
    "        nn.init.normal_(self.wq)\n",
    "        nn.init.normal_(self.wk)\n",
    "\n",
    "    def forward(self, f):\n",
    "        wq_f = self.wq.reshape(-1, 1) * f                   # Wq*f\n",
    "        wk_f = self.wk.reshape(-1, 1) * f                   # Wq*f\n",
    "        S = torch.exp(torch.matmul(wq_f.T, wk_f))           # e^((wq_f.T)*(wk_f))\n",
    "        \n",
    "        nonzero_neigh = self.neighbors.nonzero()                                                    # Find indexes of neighbors in graph\n",
    "        unique_first_elements, counts = torch.unique(nonzero_neigh[:, 0], return_counts=True)       # Count number of neighbors per node\n",
    "        split_tensors = list(torch.split(nonzero_neigh, tuple(counts)))                             # split indexes of neighbors into a list (1 element = 1 tensor of indexes)\n",
    "\n",
    "        temp = [[S[n[i,0], n[i,1]] for i in range(len(n))] for n in split_tensors]                  # For each node, get the S value for the neighbors indexes\n",
    "        summed = torch.Tensor([torch.sum(torch.Tensor(e)) for e in temp])                           # Sum these results for each nodes\n",
    "        division = summed.unsqueeze(0).repeat(1, S.shape[1], 1)[0]                                  # Repeat the sum in S.shape[1] array => division per columns\n",
    "        final_term  = S / division\n",
    "\n",
    "        return final_term\n",
    "\n",
    "\n",
    "f = np.mean(inclusion_score, axis=1)                            # Flatten the matrix of inclusion score \n",
    "layer = SparseAttentionEdgePredictorLayer(torch.Tensor(list(extended_graph.nodes())), torch.Tensor(nx.adjacency_matrix(extended_graph).toarray()))\n",
    "S = layer.forward(torch.Tensor(f))\n",
    "print(S.shape)"
   ]
  },
  {
   "cell_type": "markdown",
   "metadata": {},
   "source": [
    "### Sparse Attention"
   ]
  },
  {
   "cell_type": "code",
   "execution_count": 13,
   "metadata": {},
   "outputs": [],
   "source": [
    "# S = S*np.random.choice([0, 1], size=S.shape)      # Add a random mask to emulate the 'sparse'"
   ]
  },
  {
   "cell_type": "markdown",
   "metadata": {},
   "source": [
    "# Face Candidates"
   ]
  },
  {
   "cell_type": "markdown",
   "metadata": {},
   "source": [
    "#### Inputs"
   ]
  },
  {
   "cell_type": "code",
   "execution_count": 14,
   "metadata": {},
   "outputs": [
    {
     "name": "stdout",
     "output_type": "stream",
     "text": [
      "  (0, 1)\t1\n",
      "  (0, 2)\t1\n",
      "  (0, 3)\t1\n",
      "  (0, 4)\t1\n",
      "  (0, 5)\t1\n",
      "  (0, 6)\t1\n",
      "  (0, 7)\t1\n",
      "  (0, 8)\t1\n",
      "  (0, 9)\t1\n",
      "  (0, 10)\t1\n",
      "  (0, 11)\t1\n",
      "  (0, 12)\t1\n",
      "  (0, 13)\t1\n",
      "  (0, 14)\t1\n",
      "  (1, 0)\t1\n",
      "  (1, 2)\t1\n",
      "  (1, 3)\t1\n",
      "  (1, 4)\t1\n",
      "  (1, 5)\t1\n",
      "  (1, 7)\t1\n",
      "  (1, 8)\t1\n",
      "  (1, 11)\t1\n",
      "  (1, 12)\t1\n",
      "  (1, 13)\t1\n",
      "  (1, 14)\t1\n",
      "  :\t:\n",
      "  (1498, 1463)\t1\n",
      "  (1498, 1464)\t1\n",
      "  (1498, 1465)\t1\n",
      "  (1498, 1475)\t1\n",
      "  (1498, 1491)\t1\n",
      "  (1498, 1492)\t1\n",
      "  (1498, 1493)\t1\n",
      "  (1498, 1494)\t1\n",
      "  (1498, 1495)\t1\n",
      "  (1498, 1496)\t1\n",
      "  (1498, 1499)\t1\n",
      "  (1499, 1462)\t1\n",
      "  (1499, 1463)\t1\n",
      "  (1499, 1464)\t1\n",
      "  (1499, 1465)\t1\n",
      "  (1499, 1466)\t1\n",
      "  (1499, 1483)\t1\n",
      "  (1499, 1489)\t1\n",
      "  (1499, 1491)\t1\n",
      "  (1499, 1492)\t1\n",
      "  (1499, 1493)\t1\n",
      "  (1499, 1494)\t1\n",
      "  (1499, 1495)\t1\n",
      "  (1499, 1496)\t1\n",
      "  (1499, 1498)\t1\n",
      "tensor([[0.0714, 0.0628, 0.0669,  ..., 0.0649, 0.0717, 0.0718],\n",
      "        [0.0714, 0.0628, 0.0669,  ..., 0.0649, 0.0717, 0.0718],\n",
      "        [0.0718, 0.0632, 0.0672,  ..., 0.0654, 0.0722, 0.0723],\n",
      "        ...,\n",
      "        [0.0701, 0.0617, 0.0658,  ..., 0.0632, 0.0704, 0.0702],\n",
      "        [0.0713, 0.0627, 0.0668,  ..., 0.0647, 0.0716, 0.0716],\n",
      "        [0.0707, 0.0621, 0.0663,  ..., 0.0639, 0.0709, 0.0709]],\n",
      "       grad_fn=<DivBackward0>)\n"
     ]
    }
   ],
   "source": [
    "adjacency = nx.adjacency_matrix(extended_graph)\n",
    "# S = np.random.rand(target_number_point, target_number_point)\n",
    "print(adjacency)\n",
    "print(S)"
   ]
  },
  {
   "cell_type": "code",
   "execution_count": 15,
   "metadata": {},
   "outputs": [
    {
     "ename": "RuntimeError",
     "evalue": "Can't call numpy() on Tensor that requires grad. Use tensor.detach().numpy() instead.",
     "output_type": "error",
     "traceback": [
      "\u001b[1;31m---------------------------------------------------------------------------\u001b[0m",
      "\u001b[1;31mRuntimeError\u001b[0m                              Traceback (most recent call last)",
      "Cell \u001b[1;32mIn[15], line 2\u001b[0m\n\u001b[0;32m      1\u001b[0m A_s \u001b[38;5;241m=\u001b[39m np\u001b[38;5;241m.\u001b[39mzeros((target_number_point,target_number_point))   \u001b[38;5;66;03m# Init A_s to 0\u001b[39;00m\n\u001b[1;32m----> 2\u001b[0m A_s \u001b[38;5;241m=\u001b[39m np\u001b[38;5;241m.\u001b[39mmatmul(\u001b[43mnp\u001b[49m\u001b[38;5;241;43m.\u001b[39;49m\u001b[43mmatmul\u001b[49m\u001b[43m(\u001b[49m\u001b[43mS\u001b[49m\u001b[43m,\u001b[49m\u001b[43m \u001b[49m\u001b[43madjacency\u001b[49m\u001b[38;5;241;43m.\u001b[39;49m\u001b[43mtoarray\u001b[49m\u001b[43m(\u001b[49m\u001b[43m)\u001b[49m\u001b[43m)\u001b[49m, S\u001b[38;5;241m.\u001b[39mT)     \u001b[38;5;66;03m# A_s = S * A * S.T\u001b[39;00m\n\u001b[0;32m      3\u001b[0m A_s \u001b[38;5;241m=\u001b[39m A_s\u001b[38;5;241m/\u001b[39mA_s\u001b[38;5;241m.\u001b[39mmax()                                         \u001b[38;5;66;03m# Normalize\u001b[39;00m\n",
      "File \u001b[1;32mc:\\Users\\Arthur\\miniconda3\\envs\\meshPFE\\lib\\site-packages\\torch\\_tensor.py:1030\u001b[0m, in \u001b[0;36mTensor.__array__\u001b[1;34m(self, dtype)\u001b[0m\n\u001b[0;32m   1028\u001b[0m     \u001b[38;5;28;01mreturn\u001b[39;00m handle_torch_function(Tensor\u001b[38;5;241m.\u001b[39m__array__, (\u001b[38;5;28mself\u001b[39m,), \u001b[38;5;28mself\u001b[39m, dtype\u001b[38;5;241m=\u001b[39mdtype)\n\u001b[0;32m   1029\u001b[0m \u001b[38;5;28;01mif\u001b[39;00m dtype \u001b[38;5;129;01mis\u001b[39;00m \u001b[38;5;28;01mNone\u001b[39;00m:\n\u001b[1;32m-> 1030\u001b[0m     \u001b[38;5;28;01mreturn\u001b[39;00m \u001b[38;5;28;43mself\u001b[39;49m\u001b[38;5;241;43m.\u001b[39;49m\u001b[43mnumpy\u001b[49m\u001b[43m(\u001b[49m\u001b[43m)\u001b[49m\n\u001b[0;32m   1031\u001b[0m \u001b[38;5;28;01melse\u001b[39;00m:\n\u001b[0;32m   1032\u001b[0m     \u001b[38;5;28;01mreturn\u001b[39;00m \u001b[38;5;28mself\u001b[39m\u001b[38;5;241m.\u001b[39mnumpy()\u001b[38;5;241m.\u001b[39mastype(dtype, copy\u001b[38;5;241m=\u001b[39m\u001b[38;5;28;01mFalse\u001b[39;00m)\n",
      "\u001b[1;31mRuntimeError\u001b[0m: Can't call numpy() on Tensor that requires grad. Use tensor.detach().numpy() instead."
     ]
    }
   ],
   "source": [
    "A_s = np.zeros((target_number_point,target_number_point))   # Init A_s to 0\n",
    "A_s = np.matmul(np.matmul(S, adjacency.toarray()), S.T)     # A_s = S * A * S.T\n",
    "A_s = A_s/A_s.max()                                         # Normalize"
   ]
  },
  {
   "cell_type": "code",
   "execution_count": null,
   "metadata": {},
   "outputs": [
    {
     "name": "stdout",
     "output_type": "stream",
     "text": [
      "[[3.77317640e-32 3.78960629e-32 3.86623573e-32 ... 5.82539176e-31\n",
      "  8.44776855e-31 8.26253392e-31]\n",
      " [3.78960629e-32 3.80608375e-32 3.89744609e-32 ... 5.84326241e-31\n",
      "  8.44162180e-31 8.26461006e-31]\n",
      " [3.86623573e-32 3.89744609e-32 3.99135018e-32 ... 5.98038937e-31\n",
      "  8.68159401e-31 8.48203340e-31]\n",
      " ...\n",
      " [5.82539176e-31 5.84326241e-31 5.98038937e-31 ... 1.19301961e-29\n",
      "  1.55922548e-29 1.49034458e-29]\n",
      " [8.44776855e-31 8.44162180e-31 8.68159401e-31 ... 1.55922548e-29\n",
      "  2.55336088e-29 2.35371110e-29]\n",
      " [8.26253392e-31 8.26461006e-31 8.48203340e-31 ... 1.49034458e-29\n",
      "  2.35371110e-29 2.19917201e-29]]\n",
      "(1500, 1500)\n"
     ]
    }
   ],
   "source": [
    "print(A_s)  # symmétrique\n",
    "print(A_s.shape)"
   ]
  },
  {
   "cell_type": "markdown",
   "metadata": {},
   "source": [
    "# Face Classifier"
   ]
  },
  {
   "cell_type": "markdown",
   "metadata": {},
   "source": [
    "### TriConv"
   ]
  },
  {
   "cell_type": "markdown",
   "metadata": {},
   "source": [
    "#### Inputs"
   ]
  },
  {
   "cell_type": "code",
   "execution_count": null,
   "metadata": {},
   "outputs": [
    {
     "name": "stdout",
     "output_type": "stream",
     "text": [
      "IGRAPH U--- 1500 11835 -- \n",
      "+ attr: _nx_name (v)\n"
     ]
    }
   ],
   "source": [
    "igraph_g = igraphGraph(directed=extended_graph.is_directed()).from_networkx(extended_graph)\n",
    "print(igraph_g.summary())"
   ]
  },
  {
   "cell_type": "code",
   "execution_count": null,
   "metadata": {},
   "outputs": [
    {
     "name": "stdout",
     "output_type": "stream",
     "text": [
      "[[682 685 687]\n",
      " [764 882 884]\n",
      " [882 884 942]]\n",
      "32790\n"
     ]
    }
   ],
   "source": [
    "triangles_ids_igraph = np.array(igraph_g.cliques(min=3, max=3))\n",
    "print(triangles_ids_igraph[:3])\n",
    "print(len(triangles_ids_igraph))"
   ]
  },
  {
   "cell_type": "code",
   "execution_count": null,
   "metadata": {},
   "outputs": [
    {
     "name": "stdout",
     "output_type": "stream",
     "text": [
      "[[[75.07823    -1.3272538  81.26335   ]\n",
      "  [75.18281    -1.9813722  81.33282   ]\n",
      "  [75.142204   -1.9813722  81.3756    ]]\n",
      "\n",
      " [[75.01782    -0.66553295  3.7821789 ]\n",
      "  [75.31144    -3.2518802   3.2605693 ]\n",
      "  [75.53943    -3.2518802   3.4885595 ]]\n",
      "\n",
      " [[75.31144    -3.2518802   3.2605693 ]\n",
      "  [75.53943    -3.2518802   3.4885595 ]\n",
      "  [75.60927    -3.2518802   3.6704957 ]]]\n",
      "32790\n"
     ]
    }
   ],
   "source": [
    "triangles = np.array(igraph_g.vs['_nx_name'])[triangles_ids_igraph]   #les triangles\n",
    "# triangles = [list(map(tuple, row)) for row in triangles.tolist()]\n",
    "print(triangles[:3])\n",
    "print(len(triangles))"
   ]
  },
  {
   "cell_type": "code",
   "execution_count": null,
   "metadata": {},
   "outputs": [
    {
     "name": "stdout",
     "output_type": "stream",
     "text": [
      "(32790,)\n",
      "[3.66599607e-26 3.92631320e-26 9.07928958e-26 ... 9.85191834e-14\n",
      " 9.74778633e-14 8.43601564e-14]\n"
     ]
    }
   ],
   "source": [
    "# Extract indices for each triangle\n",
    "i, j, k = triangles_ids_igraph.T\n",
    "\n",
    "# Extract probabilities using advanced indexing\n",
    "A_s_ij = A_s[i, j]\n",
    "A_s_ik = A_s[i, k]\n",
    "A_s_jk = A_s[j, k]\n",
    "\n",
    "# Calculate the barycenter probabilities\n",
    "p_init = np.zeros(len(triangles))\n",
    "p_init = (A_s_ij + A_s_ik + A_s_jk) / 3\n",
    "\n",
    "print(p_init.shape)\n",
    "print(p_init)"
   ]
  },
  {
   "cell_type": "markdown",
   "metadata": {},
   "source": [
    "#### Calculate barycenter"
   ]
  },
  {
   "cell_type": "code",
   "execution_count": null,
   "metadata": {},
   "outputs": [
    {
     "name": "stdout",
     "output_type": "stream",
     "text": [
      "(32790, 3)\n",
      "[[75.13442   -1.7633328 81.32392  ]\n",
      " [75.28956   -2.3897645  3.510436 ]\n",
      " [75.48671   -3.25188    3.4732082]]\n"
     ]
    }
   ],
   "source": [
    "barycenters = np.mean(triangles, axis=1)\n",
    "print(barycenters.shape)\n",
    "print(barycenters[:3])"
   ]
  },
  {
   "cell_type": "markdown",
   "metadata": {},
   "source": [
    "#### KNN Tri"
   ]
  },
  {
   "cell_type": "code",
   "execution_count": null,
   "metadata": {},
   "outputs": [],
   "source": [
    "_, indices_neigh_tri = NearestNeighbors(n_neighbors=number_neigh_tri).fit(barycenters).kneighbors(barycenters)          # Find k='number_neigh_tri' neighbors of each triangles based on theirs barycenters"
   ]
  },
  {
   "cell_type": "markdown",
   "metadata": {},
   "source": [
    "Diff Barycenters"
   ]
  },
  {
   "cell_type": "code",
   "execution_count": null,
   "metadata": {},
   "outputs": [
    {
     "name": "stdout",
     "output_type": "stream",
     "text": [
      "(32790, 19, 3)\n"
     ]
    }
   ],
   "source": [
    "# Calculates the difference between each barycenters and their n='number_neigh_tri'-1 neighbors\n",
    "barycenters_diff = np.subtract(barycenters[indices_neigh_tri[:, 0]][:, np.newaxis], barycenters[indices_neigh_tri[:, 1:]])   #Inverser la différence des barycentres si nécéssaire\n",
    "\n",
    "print(barycenters_diff.shape)"
   ]
  },
  {
   "cell_type": "markdown",
   "metadata": {},
   "source": [
    "#### calculate e norm matrix"
   ]
  },
  {
   "cell_type": "code",
   "execution_count": null,
   "metadata": {},
   "outputs": [
    {
     "name": "stdout",
     "output_type": "stream",
     "text": [
      "(32790, 3)\n",
      "[[0.66605747 0.66675615 0.05898531]\n",
      " [2.6547089  2.6547084  0.32242608]]\n"
     ]
    }
   ],
   "source": [
    "diff_vectors = list()\n",
    "\n",
    "for triangle in triangles:\n",
    "    e_ij = np.linalg.norm(np.array(triangle[0]) - np.array(triangle[1]))    #Calculate the vectors for each edge of each triangles\n",
    "    e_ik = np.linalg.norm(np.array(triangle[0]) - np.array(triangle[2]))\n",
    "    e_jk = np.linalg.norm(np.array(triangle[1]) - np.array(triangle[2]))\n",
    "    diff_vectors.append([e_ij, e_ik, e_jk])\n",
    "\n",
    "diff_vectors = np.array(diff_vectors)\n",
    "print(diff_vectors.shape)\n",
    "print(diff_vectors[:2])"
   ]
  },
  {
   "cell_type": "markdown",
   "metadata": {},
   "source": [
    "#### Calculate r"
   ]
  },
  {
   "cell_type": "code",
   "execution_count": null,
   "metadata": {},
   "outputs": [
    {
     "data": {
      "text/plain": [
       "(32790,)"
      ]
     },
     "execution_count": 26,
     "metadata": {},
     "output_type": "execute_result"
    }
   ],
   "source": [
    "max_diff_vectors = diff_vectors.max(axis=1)       # calculate t_n_max\n",
    "min_diff_vectors = diff_vectors.min(axis=1)       # calculate t_n_min\n",
    "max_diff_vectors.shape"
   ]
  },
  {
   "cell_type": "code",
   "execution_count": null,
   "metadata": {},
   "outputs": [
    {
     "name": "stdout",
     "output_type": "stream",
     "text": [
      "(32790, 19)\n",
      "(32790, 19)\n"
     ]
    }
   ],
   "source": [
    "max_diff_vectors_diff = np.subtract(max_diff_vectors[indices_neigh_tri[:, 0]][:, np.newaxis], max_diff_vectors[indices_neigh_tri[:, 1:]])   #Inverser la différence des barycentres si nécéssaire   # calculate t_n_max - t_m_max\n",
    "print(max_diff_vectors_diff.shape)\n",
    "min_diff_vectors_diff = np.subtract(min_diff_vectors[indices_neigh_tri[:, 0]][:, np.newaxis], min_diff_vectors[indices_neigh_tri[:, 1:]])   #Inverser la différence des barycentres si nécéssaire   # calculate t_n_min - t_m_min\n",
    "print(min_diff_vectors_diff.shape)"
   ]
  },
  {
   "cell_type": "code",
   "execution_count": null,
   "metadata": {},
   "outputs": [
    {
     "name": "stdout",
     "output_type": "stream",
     "text": [
      "(32790, 19, 5)\n"
     ]
    }
   ],
   "source": [
    "r_matrix = np.zeros((len(triangles), number_neigh_tri-1, 5))\n",
    "\n",
    "r_matrix[:, :, 0]   = min_diff_vectors_diff\n",
    "r_matrix[:, :, 1]   = max_diff_vectors_diff\n",
    "r_matrix[:, :, 2:5] = barycenters_diff\n",
    "\n",
    "print(r_matrix.shape)  # nb_triangles, len(indices_neigh_tri), 5dim/triangles\n",
    "\n",
    "# Here r_matrix[i,j] represent the relation between the triangles (n = i) and (m = indices_neigh_tri_array[i,j])"
   ]
  },
  {
   "cell_type": "markdown",
   "metadata": {},
   "source": [
    "#### Calculate f"
   ]
  },
  {
   "cell_type": "code",
   "execution_count": null,
   "metadata": {},
   "outputs": [
    {
     "name": "stdout",
     "output_type": "stream",
     "text": [
      "0.9999999999999146\n",
      "(32790,)\n",
      "[3.04963754e-05 3.04963754e-05 3.04963754e-05 ... 3.04963754e-05\n",
      " 3.04963754e-05 3.04963754e-05]\n"
     ]
    },
    {
     "name": "stderr",
     "output_type": "stream",
     "text": [
      "C:\\Users\\Arthur\\AppData\\Local\\Temp\\ipykernel_17108\\474768578.py:5: UserWarning: Implicit dimension choice for softmax has been deprecated. Change the call to include dim=X as an argument.\n",
      "  final_scores = torch.nn.functional.softmax(torch.tensor(f_final))    #proba des triangles\n"
     ]
    }
   ],
   "source": [
    "# Multi Layer Perceptron (MLP) * 3 \n",
    "f_final = p_init    # TODO\n",
    "\n",
    "\n",
    "final_scores = torch.nn.functional.softmax(torch.tensor(f_final))    #proba des triangles\n",
    "final_scores = final_scores.numpy()\n",
    "print(final_scores.sum())\n",
    "print(final_scores.shape)\n",
    "print(final_scores)"
   ]
  },
  {
   "cell_type": "markdown",
   "metadata": {},
   "source": [
    "# Simplified Mesh"
   ]
  },
  {
   "cell_type": "code",
   "execution_count": null,
   "metadata": {},
   "outputs": [
    {
     "name": "stdout",
     "output_type": "stream",
     "text": [
      "(500, 3, 3)\n",
      "[[ 51.         -3.0965528 -13.237194 ]\n",
      " [ 39.         -8.699333   -3.6727462]\n",
      " [ 51.          4.590885    2.507581 ]]\n"
     ]
    }
   ],
   "source": [
    "selected_triangles_indexes = np.argpartition(final_scores, -int(target_number_point/3))[-int(target_number_point/3):] \n",
    "selected_triangles = np.array(triangles)[selected_triangles_indexes]\n",
    "print(selected_triangles.shape) # number triangles, number points, number dimensions(x,y,z)\n",
    "print(selected_triangles[0])"
   ]
  },
  {
   "cell_type": "code",
   "execution_count": null,
   "metadata": {},
   "outputs": [
    {
     "name": "stdout",
     "output_type": "stream",
     "text": [
      "Number of nodes: 43\n",
      "Number of edges: 203\n"
     ]
    }
   ],
   "source": [
    "simplified_final_graph = nx.Graph()\n",
    "for index_poly, poly in enumerate(selected_triangles):\n",
    "    for index_current_node in range(len(poly)):\n",
    "        current_node = tuple(poly[index_current_node])\n",
    "        for index_other_node in range(index_current_node+1, len(poly)):\n",
    "            edge = current_node, tuple(poly[index_other_node])\n",
    "            simplified_final_graph.add_edge(*edge)\n",
    "            # if attribute do not exists\n",
    "            if len(simplified_final_graph.nodes[current_node])==0:\n",
    "                simplified_final_graph.nodes[current_node]['index_triangle'] = set()\n",
    "            simplified_final_graph.nodes[current_node]['index_triangle'].add(index_poly)\n",
    "            if len(simplified_final_graph.nodes[tuple(poly[index_other_node])])==0:\n",
    "                simplified_final_graph.nodes[tuple(poly[index_other_node])]['index_triangle'] = set()\n",
    "            simplified_final_graph.nodes[tuple(poly[index_other_node])]['index_triangle'].add(index_poly)\n",
    "            \n",
    "transformation.print_graph_properties(graph=simplified_final_graph, display_graph=False, display_labels=False)"
   ]
  },
  {
   "cell_type": "code",
   "execution_count": null,
   "metadata": {},
   "outputs": [],
   "source": [
    "simplified_final_mesh = transformation.graph_to_mesh(simplified_final_graph)\n",
    "\n",
    "#Affichage\n",
    "transformation.mesh_to_display_vtk(mesh_data)\n",
    "transformation.mesh_to_display_vtk(simplified_final_mesh)"
   ]
  },
  {
   "cell_type": "markdown",
   "metadata": {},
   "source": [
    "# Fonctions Loss"
   ]
  },
  {
   "cell_type": "markdown",
   "metadata": {},
   "source": [
    "## Probabilistic Chamfer distance"
   ]
  },
  {
   "cell_type": "code",
   "execution_count": null,
   "metadata": {},
   "outputs": [],
   "source": [
    "def torch_d_P_Ps(p_y, x, y):\n",
    "    \"\"\"All Tensors in input\"\"\"\n",
    "    # print(p_y.shape, x.shape, y.shape)\n",
    "\n",
    "    expanded_x1 = x.unsqueeze(1)\n",
    "    expanded_x2 = y.unsqueeze(0)\n",
    "    distances = torch.norm(expanded_x1 - expanded_x2, dim=2)        # distance matrix\n",
    "\n",
    "    min_x = distances.min(dim=1).values\n",
    "    min_y = distances.min(dim=0)\n",
    "\n",
    "    first_term = torch.sum(torch.index_select(p_y, 0, min_y.indices) * min_y.values)\n",
    "    second_term = torch.sum(min_x * p_y)\n",
    "\n",
    "    return first_term + second_term\n",
    "\n",
    "\n",
    "d_P_Ps = torch_d_P_Ps(torch.Tensor(normalized_inclusion_score), torch.Tensor(np.array(graph)), torch.Tensor(np.array(extended_graph)))"
   ]
  },
  {
   "cell_type": "markdown",
   "metadata": {},
   "source": [
    "## Probabilistic Surfaces Distance"
   ]
  },
  {
   "cell_type": "markdown",
   "metadata": {},
   "source": [
    "### d_f_S_Ss"
   ]
  },
  {
   "cell_type": "code",
   "execution_count": null,
   "metadata": {},
   "outputs": [],
   "source": [
    "def torch_d_f_S_Ss(p_b_hat, b_hat, b):\n",
    "    # print(p_b_hat.shape, b_hat.shape, b.shape)\n",
    "\n",
    "    expanded_x1 = b_hat.unsqueeze(1)\n",
    "    expanded_x2 = b.unsqueeze(0)\n",
    "    distances = torch.norm(expanded_x1 - expanded_x2, dim=2)\n",
    "\n",
    "    min_b = distances.min(dim=1).values\n",
    "\n",
    "    final_term = torch.sum(p_b_hat * min_b)\n",
    "\n",
    "    return final_term\n",
    "\n",
    "\n",
    "\n",
    "igraph_g_original = igraphGraph(directed=extended_graph.is_directed()).from_networkx(graph)\n",
    "triangles_ids_igraph_original = np.array(igraph_g_original.cliques(min=3, max=3))\n",
    "triangles = np.array(igraph_g_original.vs['_nx_name'])[triangles_ids_igraph_original]\n",
    "torch_b = torch.Tensor(np.mean(triangles, axis=1))\n",
    "\n",
    "torch_b_hat = torch.Tensor(np.mean(selected_triangles, axis=1))\n",
    "\n",
    "torch_p_b_hat = torch.Tensor(final_scores[selected_triangles_indexes])\n",
    "\n",
    "d_f_S_Ss = torch_d_f_S_Ss(torch_p_b_hat, torch_b_hat, torch_b)"
   ]
  },
  {
   "cell_type": "markdown",
   "metadata": {},
   "source": [
    "### d_r_S_Ss"
   ]
  },
  {
   "cell_type": "code",
   "execution_count": null,
   "metadata": {},
   "outputs": [
    {
     "data": {
      "text/plain": [
       "tensor(0.0768)"
      ]
     },
     "execution_count": 35,
     "metadata": {},
     "output_type": "execute_result"
    }
   ],
   "source": [
    "def torch_d_r_S_Ss(p_x, p_y, x ,y):\n",
    "    expanded_x = x.unsqueeze(1)\n",
    "    expanded_y = y.unsqueeze(0)\n",
    "    distances = torch.norm(expanded_x - expanded_y, dim=2)\n",
    "    min_d = distances.min(dim=0).values\n",
    "    first_term = p_y * min_d\n",
    "\n",
    "\n",
    "    indices_knn = distances.topk(k=50, dim=0, largest=False).indices.T  # Indices of the k-nearest neighbors\n",
    "    knn_labels = x[indices_knn]\n",
    "    xtk = torch.reshape(knn_labels, shape=((y.shape[0])*50, 3))\n",
    "\n",
    "    expanded_xtk = xtk.unsqueeze(1)\n",
    "    distances_knn = torch.norm(expanded_xtk - expanded_y, dim=2)\n",
    "    min_knn = distances_knn.min(dim=1).values\n",
    "    min_knn_reshaped = min_knn.reshape(((y.shape[0]), 50))\n",
    "\n",
    "    ptk_time_norm = p_x[indices_knn] * min_knn_reshaped\n",
    "    factor = (1-p_y) * (1/50)\n",
    "    second_term = factor * torch.sum(ptk_time_norm, dim=1)\n",
    "\n",
    "    final_term = torch.sum(first_term + second_term)\n",
    "\n",
    "    return final_term\n",
    "\n",
    "d_f_S_Ss = torch_d_r_S_Ss(torch.Tensor(final_scores), torch_p_b_hat, torch_b, torch_b_hat)\n",
    "d_f_S_Ss"
   ]
  },
  {
   "cell_type": "markdown",
   "metadata": {},
   "source": [
    "## Triangle Collision Loss"
   ]
  },
  {
   "cell_type": "code",
   "execution_count": null,
   "metadata": {},
   "outputs": [],
   "source": [
    "def compute_lc_le_lo(p_t, m_c_e_o, Fs):\n",
    "    \"\"\"\n",
    "    Compute the collision loss term L_c.\n",
    "\n",
    "    Parameters:\n",
    "    - p_t: 1D numpy array containing the probabilities of each triangle (indices)\n",
    "    - m_c_t: 2D numpy array containing the number of faces penetrated by each triangle\n",
    "    - Fs: 3D numpy array representing the vertices of triangles\n",
    "\n",
    "    Returns:\n",
    "    - L_c: Collision loss term\n",
    "    \"\"\"\n",
    "    assert len(p_t) == len(m_c_e_o), \"Input arrays must have the same length\"\n",
    "\n",
    "    penalty_per_triangle = p_t * m_c_e_o\n",
    "\n",
    "    # Sum the penalties for all selected triangles\n",
    "    total_penalty = np.sum(penalty_per_triangle)\n",
    "\n",
    "    # Compute the collision loss term L_c\n",
    "    L_c_e_o = (1 / len(Fs)) * total_penalty\n",
    "\n",
    "    return L_c_e_o\n",
    "\n",
    "# Example usage:\n",
    "# Replace the arrays below with your actual data\n",
    "# p_t = selected_triangles_indexes\n",
    "# m_c_t = numpy array containing the number of faces penetrated by each triangle\n",
    "# Fs = 3D numpy array representing the vertices of triangles\n",
    "p_t = selected_triangles_indexes\n",
    "Fs = triangles  # Given data"
   ]
  },
  {
   "cell_type": "code",
   "execution_count": null,
   "metadata": {},
   "outputs": [
    {
     "ename": "NameError",
     "evalue": "name 'b_hat' is not defined",
     "output_type": "error",
     "traceback": [
      "\u001b[1;31m---------------------------------------------------------------------------\u001b[0m",
      "\u001b[1;31mNameError\u001b[0m                                 Traceback (most recent call last)",
      "Cell \u001b[1;32mIn[37], line 1\u001b[0m\n\u001b[1;32m----> 1\u001b[0m number_neigh_barycenters \u001b[38;5;241m=\u001b[39m \u001b[38;5;28mmin\u001b[39m(\u001b[38;5;241m50\u001b[39m, \u001b[38;5;28mlen\u001b[39m(\u001b[43mb_hat\u001b[49m))\n\u001b[0;32m      2\u001b[0m _, indexes_neigh_selected_barycenters \u001b[38;5;241m=\u001b[39m NearestNeighbors(n_neighbors\u001b[38;5;241m=\u001b[39mnumber_neigh_barycenters)\u001b[38;5;241m.\u001b[39mfit(b_hat)\u001b[38;5;241m.\u001b[39mkneighbors(b_hat)\n",
      "\u001b[1;31mNameError\u001b[0m: name 'b_hat' is not defined"
     ]
    }
   ],
   "source": [
    "number_neigh_barycenters = min(50, len(b_hat))\n",
    "_, indexes_neigh_selected_barycenters = NearestNeighbors(n_neighbors=number_neigh_barycenters).fit(b_hat).kneighbors(b_hat)"
   ]
  },
  {
   "cell_type": "markdown",
   "metadata": {},
   "source": [
    "### Lc"
   ]
  },
  {
   "cell_type": "code",
   "execution_count": null,
   "metadata": {},
   "outputs": [
    {
     "name": "stdout",
     "output_type": "stream",
     "text": [
      "L_c :  4225.18776054694\n"
     ]
    }
   ],
   "source": [
    "mc = np.zeros((500))\n",
    "\n",
    "for index_neigh_barycenters in indexes_neigh_selected_barycenters:\n",
    "    current_triangle = selected_triangles[index_neigh_barycenters[0]]\n",
    "    others_triangles = selected_triangles[index_neigh_barycenters[1:]]\n",
    "\n",
    "    lines_current_triangle = LinearRing(current_triangle)\n",
    "    polygons_others_tri = MultiPolygon([Polygon(others_triangle) for others_triangle in others_triangles]).buffer(0)    # buffer 0 to correct invalid polygons => take the exterior of the shape\n",
    "\n",
    "\n",
    "    intersection = lines_current_triangle.intersection(polygons_others_tri)\n",
    "    if intersection.is_empty:\n",
    "        continue\n",
    "    if intersection.geom_type == 'MultiLineString':\n",
    "        mc[index_neigh_barycenters[0]] = len(intersection.geoms)\n",
    "    else:\n",
    "        mc[index_neigh_barycenters[0]] += 1\n",
    "L_c = compute_lc_le_lo(p_t, mc, Fs)\n",
    "print(\"L_c : \", L_c)"
   ]
  },
  {
   "cell_type": "markdown",
   "metadata": {},
   "source": [
    "### Le"
   ]
  },
  {
   "cell_type": "code",
   "execution_count": null,
   "metadata": {},
   "outputs": [
    {
     "name": "stdout",
     "output_type": "stream",
     "text": [
      "L_e :  24105.658829414708\n"
     ]
    }
   ],
   "source": [
    "me = np.zeros((500))\n",
    "\n",
    "for index_neigh_barycenters in indexes_neigh_selected_barycenters:\n",
    "    current_triangle = selected_triangles[index_neigh_barycenters[0]]\n",
    "    others_triangles = selected_triangles[index_neigh_barycenters[1:]]\n",
    "\n",
    "    lines_current_triangle = LinearRing(current_triangle)\n",
    "    lines_others_tri = MultiLineString([LineString([other_tri[0], other_tri[1], other_tri[2], other_tri[0]]) for other_tri in others_triangles])\n",
    "\n",
    "    intersection = lines_current_triangle.intersection(lines_others_tri)\n",
    "    if intersection.is_empty:\n",
    "        continue\n",
    "    if intersection.geom_type == 'MultiLineString':\n",
    "        me[index_neigh_barycenters[0]] = len(intersection.geoms)\n",
    "    else:\n",
    "        me[index_neigh_barycenters[0]] += 1\n",
    "L_e = compute_lc_le_lo(p_t, me, Fs)\n",
    "print(\"L_e : \", L_e)"
   ]
  },
  {
   "cell_type": "markdown",
   "metadata": {},
   "source": [
    "### Lo"
   ]
  },
  {
   "cell_type": "code",
   "execution_count": null,
   "metadata": {},
   "outputs": [],
   "source": [
    "mo = np.zeros((500))"
   ]
  },
  {
   "cell_type": "markdown",
   "metadata": {},
   "source": [
    "Lo - échantillonnage de 100 points à partir de chaque triangle"
   ]
  },
  {
   "cell_type": "code",
   "execution_count": null,
   "metadata": {},
   "outputs": [
    {
     "data": {
      "text/plain": [
       "(100, 3)"
      ]
     },
     "execution_count": 155,
     "metadata": {},
     "output_type": "execute_result"
    }
   ],
   "source": [
    "\n",
    "def sample_points_from_triangle(t, num_points=100):\n",
    "    v1, v2, v3 = t\n",
    "    bary_coords = np.random.rand(num_points, 2)\n",
    "    sqrt_bary_coords = np.sqrt(bary_coords[:, 0])\n",
    "\n",
    "    u = sqrt_bary_coords\n",
    "    v = bary_coords[:, 1]\n",
    "\n",
    "    \"\"\"\n",
    "    La formule spécifique est dérivée de l'expression générale d'interpolation barycentrique \n",
    "    sommets A, B et C\n",
    "    coord barycentriques: u et v\n",
    "    coord cartésiennes: x,y,z \n",
    "    \"\"\"\n",
    "    x_coords = (1 - u - v) * v1[0] + u * v2[0] + v * v3[0]\n",
    "    y_coords = (1 - u - v) * v1[1] + u * v2[1] + v * v3[1]\n",
    "    z_coords = (1 - u - v) * v1[2] + u * v2[2] + v * v3[2]\n",
    "\n",
    "    sampled_points = np.column_stack((x_coords, y_coords, z_coords))\n",
    "    return sampled_points\n",
    "\n",
    "points100 = sample_points_from_triangle(triangle, num_points=100)\n",
    "points100\n",
    "points100.shape"
   ]
  },
  {
   "cell_type": "markdown",
   "metadata": {},
   "source": [
    "Les Aires"
   ]
  },
  {
   "cell_type": "code",
   "execution_count": null,
   "metadata": {},
   "outputs": [],
   "source": [
    "number_neigh_selected_barycenters = min(50, len(b_hat))\n",
    "def knnbar(nn):\n",
    "  _, indexes_neigh_selected_barycenters = NearestNeighbors(n_neighbors=nn).fit(b_hat).kneighbors(b_hat)\n",
    "  return _, indexes_neigh_selected_barycenters"
   ]
  },
  {
   "cell_type": "code",
   "execution_count": null,
   "metadata": {},
   "outputs": [
    {
     "data": {
      "text/plain": [
       "array([[  0, 292,  20, ..., 181, 180, 141],\n",
       "       [  1,   6, 344, ..., 397, 151, 473],\n",
       "       [  2, 186,  10, ..., 185, 184, 189],\n",
       "       ...,\n",
       "       [497, 421, 418, ..., 379, 238, 457],\n",
       "       [498, 261, 303, ..., 385,  40, 327],\n",
       "       [499, 264, 126, ..., 404, 338, 320]], dtype=int64)"
      ]
     },
     "execution_count": 157,
     "metadata": {},
     "output_type": "execute_result"
    }
   ],
   "source": [
    "d, indices = knnbar(number_neigh_selected_barycenters)\n",
    "indices"
   ]
  },
  {
   "cell_type": "code",
   "execution_count": null,
   "metadata": {},
   "outputs": [
    {
     "name": "stdout",
     "output_type": "stream",
     "text": [
      "Pénalité pour les triangles qui se chevauchent : 0.0008337502084375521\n"
     ]
    }
   ],
   "source": [
    "from scipy.spatial import distance as scipy_distance\n",
    "\n",
    "def calculate_triangle_area(triangle):\n",
    "    # Fonction pour calculer l'aire d'un triangle en utilisant la formule de Héron\n",
    "    side_lengths = [scipy_distance.euclidean(triangle[i], triangle[(i + 1) % 3]) for i in range(3)]\n",
    "    s = sum(side_lengths) / 2\n",
    "    return np.sqrt(s * np.prod([s - length for length in side_lengths]))\n",
    "\n",
    "def penalize_overlapping_triangles(points_list, triangles, k=50):\n",
    "    # Fonction pour pénaliser les triangles qui se chevauchent\n",
    "    assignment_results = []\n",
    "    overlapping_triangles = np.zeros(len(triangles), dtype=int)  # Déclaration en dehors de la boucle\n",
    "\n",
    "    # ajustement de la valeur maximale de k en fonction du nombre de triangles\n",
    "    k = min(k, len(triangles))\n",
    "\n",
    "    # NearestNeighbors pour trouver les k triangles les plus proches pour chaque point\n",
    "    knn_model = NearestNeighbors(n_neighbors=k).fit(np.vstack(triangles))\n",
    "    d, indices = knn_model.kneighbors(np.array(points_list)[:, 0, :])\n",
    "\n",
    "    for i, point_list in enumerate(points_list):\n",
    "        point = point_list[0]\n",
    "\n",
    "        # Verif que les indices sont valides\n",
    "        closest_triangle_indices = indices[i, :k]\n",
    "        closest_triangle_indices = closest_triangle_indices[closest_triangle_indices < len(triangles)]\n",
    "\n",
    "        # Accéder aux triangles en utilisant les indices valides\n",
    "        valid_triangle_indices = []\n",
    "        for idx in closest_triangle_indices:\n",
    "            modified_triangle = np.copy(triangles[idx])\n",
    "            modified_triangle[0] = point\n",
    "\n",
    "            area_original = calculate_triangle_area(triangles[idx])\n",
    "            area_modified = calculate_triangle_area(modified_triangle)\n",
    "\n",
    "            # Vérifier si la somme des aires est proche de l'aire du triangle\n",
    "            if not np.isclose(area_original, area_modified, rtol=1e-5):\n",
    "                assignment_results.append((point, triangles[idx]))\n",
    "                valid_triangle_indices.append(idx)\n",
    "\n",
    "        # MAJ du overlapping_triangles avec les indices valides\n",
    "        overlapping_triangles[valid_triangle_indices] += 1\n",
    "\n",
    "    penalties = overlapping_triangles\n",
    "    total_penalty = np.sum(penalties)\n",
    "    Lo = (1 / len(triangles)) * total_penalty\n",
    "\n",
    "    return Lo\n",
    "\n",
    "\n",
    "L_o = penalize_overlapping_triangles([points100], triangles, k=50)\n",
    "print(\"Pénalité pour les triangles qui se chevauchent :\", L_o)\n"
   ]
  },
  {
   "cell_type": "markdown",
   "metadata": {},
   "source": [
    "## Final Loss"
   ]
  },
  {
   "cell_type": "markdown",
   "metadata": {},
   "source": [
    "lambda_c, lambda_e, lambda_o = 0.01, 0.01, 0.01\n",
    "\n",
    "\n",
    "Loss_L = prob_chamfer_dist + d_f_S_Ss + d_r_S_Ss + (lambda_c * L_c) + (lambda_e * L_e) + (lambda_o * L_o)\n",
    "print(Loss_L)"
   ]
  }
 ],
 "metadata": {
  "kernelspec": {
   "display_name": "meshPFE",
   "language": "python",
   "name": "python3"
  },
  "language_info": {
   "codemirror_mode": {
    "name": "ipython",
    "version": 3
   },
   "file_extension": ".py",
   "mimetype": "text/x-python",
   "name": "python",
   "nbconvert_exporter": "python",
   "pygments_lexer": "ipython3",
   "version": "3.10.13"
  }
 },
 "nbformat": 4,
 "nbformat_minor": 2
}
