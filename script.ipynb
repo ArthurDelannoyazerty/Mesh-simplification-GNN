{
 "cells": [
  {
   "cell_type": "markdown",
   "metadata": {},
   "source": [
    "# Imports"
   ]
  },
  {
   "cell_type": "code",
   "execution_count": 127,
   "metadata": {},
   "outputs": [],
   "source": [
    "from Transformation import Transformation\n",
    "import numpy as np\n",
    "import math\n",
    "from sklearn import preprocessing\n",
    "from sklearn.neighbors import NearestNeighbors\n",
    "import networkx as nx"
   ]
  },
  {
   "cell_type": "markdown",
   "metadata": {},
   "source": [
    "# Input"
   ]
  },
  {
   "cell_type": "code",
   "execution_count": 128,
   "metadata": {},
   "outputs": [
    {
     "name": "stdout",
     "output_type": "stream",
     "text": [
      "Number of nodes: 8\n",
      "Number of edges: 18\n"
     ]
    }
   ],
   "source": [
    "transformation = Transformation()\n",
    "\n",
    "# Create objects\n",
    "stl_file_path = \"3d_models/stl/cube.stl\"\n",
    "mesh_data = transformation.stl_to_mesh(stl_file_path)\n",
    "graph = transformation.mesh_to_graph(mesh_data)\n",
    "\n",
    "transformation.print_graph_properties(graph, display_graph=False, display_labels=False)"
   ]
  },
  {
   "cell_type": "code",
   "execution_count": 129,
   "metadata": {},
   "outputs": [
    {
     "name": "stdout",
     "output_type": "stream",
     "text": [
      "{(0.0, 0.0, 0.0): {'index_triangle': {0, 1, 2, 3, 8, 9}}, (1.0, 0.0, 1.0): {'index_triangle': {0, 1, 4, 6}}, (1.0, 0.0, 0.0): {'index_triangle': {0, 8, 6, 7}}, (0.0, 0.0, 1.0): {'index_triangle': {1, 2, 4, 5}}, (0.0, -1.0, 1.0): {'index_triangle': {11, 2, 3, 5}}, (0.0, -1.0, 0.0): {'index_triangle': {11, 9, 10, 3}}, (1.0, -1.0, 1.0): {'index_triangle': {4, 5, 6, 7, 10, 11}}, (1.0, -1.0, 0.0): {'index_triangle': {8, 9, 10, 7}}}\n"
     ]
    }
   ],
   "source": [
    "print(graph._node)"
   ]
  },
  {
   "cell_type": "markdown",
   "metadata": {},
   "source": [
    "# Point Sampler"
   ]
  },
  {
   "cell_type": "markdown",
   "metadata": {},
   "source": [
    "### DevConv"
   ]
  },
  {
   "cell_type": "code",
   "execution_count": 130,
   "metadata": {},
   "outputs": [],
   "source": [
    "class DevConv():\n",
    "    def __init__(self, graph):\n",
    "        self.graph = graph\n",
    "        self.list_node = list(graph._node)\n",
    "\n",
    "        self.W_phi = np.array([0.1])      #change\n",
    "        self.W_theta = np.array([1, 2, 3])  # change\n",
    "    \n",
    "    def forward(self, previous_inclusion_score, is_relu=True):\n",
    "        list_inc_score_before_function = np.zeros(shape=(len(self.list_node)))\n",
    "        for index_current_node, (current_node, dict_neigh) in enumerate(self.graph._adj.items()):\n",
    "            # print(index_current_node, \" | \", current_node, \" | \", dict_neigh)\n",
    "            neigh_distances = np.zeros(shape=len(dict_neigh))\n",
    "            for index_neigh, neigh_node in enumerate(dict_neigh.keys()):\n",
    "                neigh_distances[index_neigh] = np.linalg.norm(np.multiply(self.W_theta, np.array(current_node) - np.array(neigh_node)))   # norm(W_theta * (xi - xj))\n",
    "            # print(neigh_distances)\n",
    "            list_inc_score_before_function[index_current_node] = self.W_phi[0] * np.max(neigh_distances)\n",
    "            # print(list_inc_score_before_function)\n",
    "\n",
    "        # apply non linear function\n",
    "        if is_relu:\n",
    "            list_inc_score = np.maximum(list_inc_score_before_function, 0)\n",
    "        else:\n",
    "            list_inc_score = 1 / (1 + np.exp(-list_inc_score_before_function))\n",
    "\n",
    "        # merge with previous inclusion score\n",
    "        if previous_inclusion_score!=None:\n",
    "            return np.mean(previous_inclusion_score, list_inc_score)\n",
    "        return list_inc_score"
   ]
  },
  {
   "cell_type": "code",
   "execution_count": 131,
   "metadata": {},
   "outputs": [
    {
     "name": "stdout",
     "output_type": "stream",
     "text": [
      "[0.58917481 0.57840466 0.58917481 0.57444252 0.58917481 0.57840466\n",
      " 0.58917481 0.57444252]\n"
     ]
    }
   ],
   "source": [
    "devconv = DevConv(graph)\n",
    "inclusion_score = devconv.forward(previous_inclusion_score=None, is_relu=False)\n",
    "print(inclusion_score)"
   ]
  },
  {
   "cell_type": "markdown",
   "metadata": {},
   "source": [
    "### Multinomial Sampling"
   ]
  },
  {
   "cell_type": "code",
   "execution_count": 132,
   "metadata": {},
   "outputs": [
    {
     "name": "stdout",
     "output_type": "stream",
     "text": [
      "[57 61 67 66 60 61 59 69]\n"
     ]
    }
   ],
   "source": [
    "normalized_inclusion_score = inclusion_score / np.sum(inclusion_score)  # normalize for multinomial sampling\n",
    "normalized_inclusion_score = np.round(normalized_inclusion_score, 8)    # round to remove float imprecision\n",
    "\n",
    "number_throws = 500     # small:more randomness    |   big:less randomness\n",
    "mult_sampling = np.random.multinomial(number_throws, normalized_inclusion_score)\n",
    "print(mult_sampling)"
   ]
  },
  {
   "cell_type": "code",
   "execution_count": 133,
   "metadata": {},
   "outputs": [
    {
     "name": "stdout",
     "output_type": "stream",
     "text": [
      "[(1.0, 0.0, 1.0), (0.0, -1.0, 0.0), (0.0, 0.0, 1.0), (1.0, 0.0, 0.0), (1.0, -1.0, 0.0)]\n"
     ]
    }
   ],
   "source": [
    "target_number_point = min(len(graph._node), 5)   # number of points for the simplification\n",
    "\n",
    "index_k_nodes = np.argpartition(mult_sampling, -target_number_point)[-target_number_point:]\n",
    "list_k_nodes = np.array(list(graph._node.keys()))[index_k_nodes]\n",
    "list_k_nodes = [tuple(e) for e in list_k_nodes]\n",
    "print(list_k_nodes)"
   ]
  },
  {
   "cell_type": "markdown",
   "metadata": {},
   "source": [
    "# KNN"
   ]
  },
  {
   "cell_type": "code",
   "execution_count": 134,
   "metadata": {},
   "outputs": [
    {
     "name": "stdout",
     "output_type": "stream",
     "text": [
      "[[1.0, 0.0, 1.0], [0.0, -1.0, 0.0], [0.0, 0.0, 1.0], [1.0, 0.0, 0.0], [1.0, -1.0, 0.0]]\n"
     ]
    }
   ],
   "source": [
    "XYZ = [list(e) for e in list_k_nodes]\n",
    "print(XYZ)"
   ]
  },
  {
   "cell_type": "code",
   "execution_count": 135,
   "metadata": {},
   "outputs": [
    {
     "name": "stdout",
     "output_type": "stream",
     "text": [
      "[[0 2 3]\n",
      " [1 4 2]\n",
      " [2 0 1]\n",
      " [3 4 0]\n",
      " [4 1 3]]\n"
     ]
    }
   ],
   "source": [
    "number_neigh = min(len(XYZ), 3)\n",
    "distances, indices = NearestNeighbors(n_neighbors=number_neigh).fit(XYZ).kneighbors(XYZ)\n",
    "print(indices)"
   ]
  },
  {
   "cell_type": "code",
   "execution_count": 136,
   "metadata": {},
   "outputs": [
    {
     "name": "stdout",
     "output_type": "stream",
     "text": [
      "((1.0, 0.0, 1.0), (0.0, 0.0, 1.0))\n",
      "((1.0, 0.0, 1.0), (1.0, 0.0, 0.0))\n",
      "((0.0, 0.0, 1.0), (1.0, 0.0, 0.0))\n",
      "((0.0, -1.0, 0.0), (1.0, -1.0, 0.0))\n",
      "((0.0, -1.0, 0.0), (0.0, 0.0, 1.0))\n",
      "((1.0, -1.0, 0.0), (0.0, 0.0, 1.0))\n",
      "((0.0, 0.0, 1.0), (1.0, 0.0, 1.0))\n",
      "((0.0, 0.0, 1.0), (0.0, -1.0, 0.0))\n",
      "((1.0, 0.0, 1.0), (0.0, -1.0, 0.0))\n",
      "((1.0, 0.0, 0.0), (1.0, -1.0, 0.0))\n",
      "((1.0, 0.0, 0.0), (1.0, 0.0, 1.0))\n",
      "((1.0, -1.0, 0.0), (1.0, 0.0, 1.0))\n",
      "((1.0, -1.0, 0.0), (0.0, -1.0, 0.0))\n",
      "((1.0, -1.0, 0.0), (1.0, 0.0, 0.0))\n",
      "((0.0, -1.0, 0.0), (1.0, 0.0, 0.0))\n"
     ]
    }
   ],
   "source": [
    "extended_graph = nx.Graph()\n",
    "for index_poly, poly in enumerate(indices):\n",
    "    for index_current_node in range(len(poly)):\n",
    "        current_node = list_k_nodes[poly[index_current_node]]\n",
    "        for index_other_node in range(index_current_node+1, len(poly)):\n",
    "            edge = current_node, list_k_nodes[poly[index_other_node]]\n",
    "            print(edge)\n",
    "            extended_graph.add_edge(*edge)\n",
    "            # if attribute do not exists\n",
    "            if len(extended_graph.nodes[current_node])==0:\n",
    "                extended_graph.nodes[current_node]['index_poly'] = set()\n",
    "            extended_graph.nodes[current_node]['index_poly'].add(index_poly)"
   ]
  },
  {
   "cell_type": "code",
   "execution_count": 137,
   "metadata": {},
   "outputs": [
    {
     "name": "stdout",
     "output_type": "stream",
     "text": [
      "{(1.0, 0.0, 1.0): {'index_poly': {0, 2}}, (0.0, 0.0, 1.0): {'index_poly': {0, 2}}, (1.0, 0.0, 0.0): {'index_poly': {3}}, (0.0, -1.0, 0.0): {'index_poly': {1, 4}}, (1.0, -1.0, 0.0): {'index_poly': {1, 3, 4}}}\n"
     ]
    }
   ],
   "source": [
    "print(extended_graph._node)"
   ]
  },
  {
   "cell_type": "code",
   "execution_count": 138,
   "metadata": {},
   "outputs": [
    {
     "name": "stdout",
     "output_type": "stream",
     "text": [
      "Number of nodes: 5\n",
      "Number of edges: 10\n"
     ]
    },
    {
     "data": {
      "image/png": "[encoded data removed]",
      "text/plain": [
       "<Figure size 640x480 with 1 Axes>"
      ]
     },
     "metadata": {},
     "output_type": "display_data"
    }
   ],
   "source": [
    "transformation.print_graph_properties(graph=extended_graph, display_graph=True, display_labels=False)"
   ]
  },
  {
   "cell_type": "markdown",
   "metadata": {},
   "source": [
    "# Edge Predictor"
   ]
  },
  {
   "cell_type": "code",
   "execution_count": 139,
   "metadata": {},
   "outputs": [],
   "source": [
    "#devconv"
   ]
  },
  {
   "cell_type": "markdown",
   "metadata": {},
   "source": [
    "### Sparse Attention"
   ]
  },
  {
   "cell_type": "code",
   "execution_count": null,
   "metadata": {},
   "outputs": [],
   "source": []
  },
  {
   "cell_type": "markdown",
   "metadata": {},
   "source": [
    "# Face Candidates"
   ]
  },
  {
   "cell_type": "code",
   "execution_count": null,
   "metadata": {},
   "outputs": [],
   "source": []
  },
  {
   "cell_type": "markdown",
   "metadata": {},
   "source": [
    "# Face Classifier"
   ]
  },
  {
   "cell_type": "markdown",
   "metadata": {},
   "source": [
    "### TriConv"
   ]
  },
  {
   "cell_type": "code",
   "execution_count": null,
   "metadata": {},
   "outputs": [],
   "source": []
  },
  {
   "cell_type": "markdown",
   "metadata": {},
   "source": [
    "# Simplified Mesh"
   ]
  },
  {
   "cell_type": "code",
   "execution_count": null,
   "metadata": {},
   "outputs": [],
   "source": []
  }
 ],
 "metadata": {
  "kernelspec": {
   "display_name": "meshPFE",
   "language": "python",
   "name": "python3"
  },
  "language_info": {
   "codemirror_mode": {
    "name": "ipython",
    "version": 3
   },
   "file_extension": ".py",
   "mimetype": "text/x-python",
   "name": "python",
   "nbconvert_exporter": "python",
   "pygments_lexer": "ipython3",
   "version": "3.10.13"
  }
 },
 "nbformat": 4,
 "nbformat_minor": 2
}
